{
 "cells": [
  {
   "cell_type": "markdown",
   "metadata": {},
   "source": [
    "## Generate X_train.npy and etc."
   ]
  },
  {
   "cell_type": "code",
   "execution_count": 11,
   "metadata": {},
   "outputs": [
    {
     "ename": "SyntaxError",
     "evalue": "invalid syntax (<ipython-input-11-b40ff6460efd>, line 10)",
     "output_type": "error",
     "traceback": [
      "\u001b[0;36m  File \u001b[0;32m\"<ipython-input-11-b40ff6460efd>\"\u001b[0;36m, line \u001b[0;32m10\u001b[0m\n\u001b[0;31m    import os,sysimglist = test_df['image_id'].tolist()\u001b[0m\n\u001b[0m                         ^\u001b[0m\n\u001b[0;31mSyntaxError\u001b[0m\u001b[0;31m:\u001b[0m invalid syntax\n"
     ]
    }
   ],
   "source": [
    "#  Data prepare: 15 classes each one about 1000 images for quick check \n",
    "# VGG data prepare\n",
    "\n",
    "import pandas as pd\n",
    "import numpy as np\n",
    "import csv\n",
    "import json\n",
    "import random\n",
    "import matplotlib.pyplot as plt\n",
    "import os,sysimglist = test_df['image_id'].tolist()\n",
    "X_test = np.empty((len(imglist),227,227,3))\n",
    "X_test.shape\n",
    "import numpy as np\n",
    "import scipy\n",
    "from scipy import ndimage\n",
    "import tensorflow as tf\n",
    "import matplotlib.pyplot as plt\n",
    "from tensorflow.keras.applications.resnet50 import ResNet50\n",
    "from tensorflow.keras.preprocessing import image\n",
    "from tensorflow.keras.applications.resnet50 import preprocess_input, decode_predictions\n",
    "from PIL import Image\n",
    "import random\n",
    "import numpy as np\n",
    "import pandas as pd\n",
    "from keras.preprocessing.image import ImageDataGenerator, load_img\n",
    "from keras.utils import to_categorical\n",
    "from sklearn.model_selection import train_test_split\n",
    "import matplotlib.pyplot as plt\n",
    "import os,sys\n",
    "import numpy as np\n",
    "import scipy\n",
    "from scipy import ndimage\n",
    "import tensorflow as tf\n",
    "import matplotlib.pyplot as plt\n",
    "from tensorflow.keras.applications.resnet50 import ResNet50\n",
    "from tensorflow.keras.preprocessing import image\n",
    "from tensorflow.keras.applications.resnet50 import preprocess_input, decode_predictions\n",
    "from PIL import Image\n",
    "import random\n",
    "import numpy as np\n",
    "import pandas as pd\n",
    "from keras.preprocessing.image import ImageDataGenerator, load_img\n",
    "from keras.utils import to_categorical\n",
    "from sklearn.model_selection import train_test_split\n",
    "import matplotlib.pyplot as plt"
   ]
  },
  {
   "cell_type": "markdown",
   "metadata": {},
   "source": [
    "Import the csv file into dataframe dataset:"
   ]
  },
  {
   "cell_type": "code",
   "execution_count": 12,
   "metadata": {},
   "outputs": [],
   "source": [
    "csv_file = '/home/zxt/data/df1.csv'\n",
    "csv_data = pd.read_csv(csv_file, low_memory=False) # prevent the warning message\n",
    "df1 = pd.DataFrame(csv_data)"
   ]
  },
  {
   "cell_type": "code",
   "execution_count": 13,
   "metadata": {},
   "outputs": [
    {
     "data": {
      "text/html": [
       "<div>\n",
       "<style scoped>\n",
       "    .dataframe tbody tr th:only-of-type {\n",
       "        vertical-align: middle;\n",
       "    }\n",
       "\n",
       "    .dataframe tbody tr th {\n",
       "        vertical-align: top;\n",
       "    }\n",
       "\n",
       "    .dataframe thead th {\n",
       "        text-align: right;\n",
       "    }\n",
       "</style>\n",
       "<table border=\"1\" class=\"dataframe\">\n",
       "  <thead>\n",
       "    <tr style=\"text-align: right;\">\n",
       "      <th></th>\n",
       "      <th>image_id</th>\n",
       "      <th>label</th>\n",
       "    </tr>\n",
       "  </thead>\n",
       "  <tbody>\n",
       "    <tr>\n",
       "      <th>0</th>\n",
       "      <td>S10_B03_R1_IMAG0108.JPG</td>\n",
       "      <td>4</td>\n",
       "    </tr>\n",
       "    <tr>\n",
       "      <th>1</th>\n",
       "      <td>S10_B03_R1_IMAG0110.JPG</td>\n",
       "      <td>4</td>\n",
       "    </tr>\n",
       "    <tr>\n",
       "      <th>2</th>\n",
       "      <td>S10_B03_R1_IMAG0111.JPG</td>\n",
       "      <td>4</td>\n",
       "    </tr>\n",
       "    <tr>\n",
       "      <th>3</th>\n",
       "      <td>S10_B03_R1_IMAG0115.JPG</td>\n",
       "      <td>4</td>\n",
       "    </tr>\n",
       "    <tr>\n",
       "      <th>4</th>\n",
       "      <td>S10_B03_R1_IMAG0188.JPG</td>\n",
       "      <td>3</td>\n",
       "    </tr>\n",
       "  </tbody>\n",
       "</table>\n",
       "</div>"
      ],
      "text/plain": [
       "                  image_id  label\n",
       "0  S10_B03_R1_IMAG0108.JPG      4\n",
       "1  S10_B03_R1_IMAG0110.JPG      4\n",
       "2  S10_B03_R1_IMAG0111.JPG      4\n",
       "3  S10_B03_R1_IMAG0115.JPG      4\n",
       "4  S10_B03_R1_IMAG0188.JPG      3"
      ]
     },
     "execution_count": 13,
     "metadata": {},
     "output_type": "execute_result"
    }
   ],
   "source": [
    "df1.head()"
   ]
  },
  {
   "cell_type": "code",
   "execution_count": 14,
   "metadata": {},
   "outputs": [
    {
     "data": {
      "image/png": "[encoded data removed]",
      "text/plain": [
       "<Figure size 432x288 with 1 Axes>"
      ]
     },
     "metadata": {
      "needs_background": "light"
     },
     "output_type": "display_data"
    }
   ],
   "source": [
    "df1['label'].value_counts().plot.bar()\n",
    "plt.show()"
   ]
  },
  {
   "cell_type": "code",
   "execution_count": 15,
   "metadata": {},
   "outputs": [],
   "source": [
    "train_df, validate0_df = train_test_split(df1, test_size=0.30, random_state=523)\n",
    "train_df = train_df.reset_index(drop=True)\n",
    "validate0_df = validate0_df.reset_index(drop=True)"
   ]
  },
  {
   "cell_type": "code",
   "execution_count": 16,
   "metadata": {},
   "outputs": [],
   "source": [
    "validate_df, test_df = train_test_split(validate0_df, test_size=0.30, random_state=912)\n",
    "validate_df = validate_df.reset_index(drop=True)\n",
    "test_df = test_df.reset_index(drop=True)"
   ]
  },
  {
   "cell_type": "code",
   "execution_count": 7,
   "metadata": {},
   "outputs": [
    {
     "data": {
      "text/plain": [
       "9709"
      ]
     },
     "execution_count": 7,
     "metadata": {},
     "output_type": "execute_result"
    }
   ],
   "source": [
    "len(train_df)"
   ]
  },
  {
   "cell_type": "code",
   "execution_count": 17,
   "metadata": {},
   "outputs": [],
   "source": [
    "path = '/home/zxt/data/picked_data/'"
   ]
  },
  {
   "cell_type": "code",
   "execution_count": 9,
   "metadata": {},
   "outputs": [
    {
     "data": {
      "text/plain": [
       "(9709, 227, 227, 3)"
      ]
     },
     "execution_count": 9,
     "metadata": {},
     "output_type": "execute_result"
    }
   ],
   "source": [
    "imglist = train_df['image_id'].tolist()\n",
    "X_train = np.empty((len(imglist),227,227,3))\n",
    "X_train.shape"
   ]
  },
  {
   "cell_type": "code",
   "execution_count": 10,
   "metadata": {},
   "outputs": [
    {
     "data": {
      "text/plain": [
       "(9709, 1)"
      ]
     },
     "execution_count": 10,
     "metadata": {},
     "output_type": "execute_result"
    }
   ],
   "source": [
    "Y_train = np.empty((len(imglist),1))\n",
    "Y_train.shape"
   ]
  },
  {
   "cell_type": "markdown",
   "metadata": {},
   "source": [
    "img to pixel:"
   ]
  },
  {
   "cell_type": "code",
   "execution_count": 13,
   "metadata": {},
   "outputs": [],
   "source": [
    "count=0\n",
    "nonelist=[]\n",
    "for img_name in imglist:\n",
    "    img_path = path + img_name\n",
    "    try:\n",
    "        img = image.load_img(img_path, target_size=(227,227))\n",
    "        X_train[count]=img\n",
    "        count+=1\n",
    "    except:\n",
    "        nonelist.append(img_path)"
   ]
  },
  {
   "cell_type": "markdown",
   "metadata": {},
   "source": [
    "export the ndarrary X_train into txt"
   ]
  },
  {
   "cell_type": "code",
   "execution_count": 20,
   "metadata": {},
   "outputs": [],
   "source": [
    "np.save('X_train',X_train)"
   ]
  },
  {
   "cell_type": "code",
   "execution_count": 16,
   "metadata": {},
   "outputs": [],
   "source": [
    "X_train = np.load('X_train.npy')"
   ]
  },
  {
   "cell_type": "code",
   "execution_count": 17,
   "metadata": {},
   "outputs": [
    {
     "data": {
      "text/plain": [
       "(9709, 1)"
      ]
     },
     "execution_count": 17,
     "metadata": {},
     "output_type": "execute_result"
    }
   ],
   "source": [
    "label = train_df['label']\n",
    "Y_train = [i for i in label]\n",
    "Y_train = np.array(Y_train)\n",
    "Y_train = Y_train.reshape(len(Y_train),1)\n",
    "Y_train.shape"
   ]
  },
  {
   "cell_type": "code",
   "execution_count": 18,
   "metadata": {},
   "outputs": [],
   "source": [
    "np.save('Y_train',Y_train)"
   ]
  },
  {
   "cell_type": "code",
   "execution_count": 19,
   "metadata": {},
   "outputs": [
    {
     "data": {
      "text/plain": [
       "(2913, 2)"
      ]
     },
     "execution_count": 19,
     "metadata": {},
     "output_type": "execute_result"
    }
   ],
   "source": [
    "validate_df.shape"
   ]
  },
  {
   "cell_type": "code",
   "execution_count": 20,
   "metadata": {},
   "outputs": [
    {
     "data": {
      "text/plain": [
       "(2913, 227, 227, 3)"
      ]
     },
     "execution_count": 20,
     "metadata": {},
     "output_type": "execute_result"
    }
   ],
   "source": [
    "imglist = validate_df['image_id'].tolist()\n",
    "X_validate = np.empty((len(imglist),227,227,3))\n",
    "X_validate.shape"
   ]
  },
  {
   "cell_type": "code",
   "execution_count": 21,
   "metadata": {},
   "outputs": [],
   "source": [
    "count=0\n",
    "nonelist=[]\n",
    "for img_name in imglist:\n",
    "    img_path = path + img_name\n",
    "    try:\n",
    "        img = image.load_img(img_path, target_size=(227,227))\n",
    "        X_validate[count]=img\n",
    "        count+=1\n",
    "    except:\n",
    "        nonelist.append(img_path)"
   ]
  },
  {
   "cell_type": "code",
   "execution_count": 22,
   "metadata": {},
   "outputs": [
    {
     "data": {
      "text/plain": [
       "array([[[[ 41.,  99., 149.],\n",
       "         [ 54.,  99., 156.],\n",
       "         [ 50.,  97., 153.],\n",
       "         ...,\n",
       "         [122., 163., 191.],\n",
       "         [123., 167., 196.],\n",
       "         [121., 165., 192.]],\n",
       "\n",
       "        [[ 48.,  98., 149.],\n",
       "         [ 43., 101., 149.],\n",
       "         [ 46.,  99., 143.],\n",
       "         ...,\n",
       "         [121., 166., 195.],\n",
       "         [124., 168., 197.],\n",
       "         [124., 169., 198.]],\n",
       "\n",
       "        [[ 41.,  99., 147.],\n",
       "         [ 53., 100., 144.],\n",
       "         [ 46., 100., 144.],\n",
       "         ...,\n",
       "         [123., 164., 192.],\n",
       "         [123., 170., 196.],\n",
       "         [126., 170., 197.]],\n",
       "\n",
       "        ...,\n",
       "\n",
       "        [[220., 220., 220.],\n",
       "         [220., 220., 220.],\n",
       "         [220., 220., 220.],\n",
       "         ...,\n",
       "         [220., 220., 220.],\n",
       "         [220., 220., 220.],\n",
       "         [220., 220., 220.]],\n",
       "\n",
       "        [[220., 220., 220.],\n",
       "         [220., 220., 220.],\n",
       "         [220., 220., 220.],\n",
       "         ...,\n",
       "         [220., 220., 220.],\n",
       "         [220., 220., 220.],\n",
       "         [220., 220., 220.]],\n",
       "\n",
       "        [[221., 221., 221.],\n",
       "         [221., 221., 221.],\n",
       "         [221., 221., 221.],\n",
       "         ...,\n",
       "         [220., 220., 220.],\n",
       "         [220., 220., 220.],\n",
       "         [220., 220., 220.]]],\n",
       "\n",
       "\n",
       "       [[[ 59., 116., 171.],\n",
       "         [ 56., 117., 171.],\n",
       "         [ 70., 123., 173.],\n",
       "         ...,\n",
       "         [ 59., 127., 192.],\n",
       "         [ 56., 125., 192.],\n",
       "         [ 61., 121., 193.]],\n",
       "\n",
       "        [[ 77., 130., 174.],\n",
       "         [ 65., 119., 165.],\n",
       "         [ 71., 127., 178.],\n",
       "         ...,\n",
       "         [ 57., 127., 189.],\n",
       "         [ 56., 128., 187.],\n",
       "         [ 57., 125., 188.]],\n",
       "\n",
       "        [[145., 182., 209.],\n",
       "         [ 92., 146., 190.],\n",
       "         [ 87., 143., 180.],\n",
       "         ...,\n",
       "         [ 60., 128., 189.],\n",
       "         [ 59., 125., 185.],\n",
       "         [ 58., 127., 192.]],\n",
       "\n",
       "        ...,\n",
       "\n",
       "        [[220., 220., 220.],\n",
       "         [220., 220., 220.],\n",
       "         [220., 220., 220.],\n",
       "         ...,\n",
       "         [  7.,   7.,   7.],\n",
       "         [228., 228., 228.],\n",
       "         [220., 220., 220.]],\n",
       "\n",
       "        [[220., 220., 220.],\n",
       "         [220., 220., 220.],\n",
       "         [220., 220., 220.],\n",
       "         ...,\n",
       "         [218., 218., 218.],\n",
       "         [216., 216., 216.],\n",
       "         [220., 220., 220.]],\n",
       "\n",
       "        [[222., 221., 226.],\n",
       "         [220., 219., 224.],\n",
       "         [220., 220., 220.],\n",
       "         ...,\n",
       "         [220., 220., 222.],\n",
       "         [221., 221., 221.],\n",
       "         [220., 220., 220.]]]])"
      ]
     },
     "execution_count": 22,
     "metadata": {},
     "output_type": "execute_result"
    }
   ],
   "source": [
    "\n",
    "X_validate[:2]"
   ]
  },
  {
   "cell_type": "code",
   "execution_count": 23,
   "metadata": {},
   "outputs": [
    {
     "data": {
      "text/plain": [
       "(2913, 1)"
      ]
     },
     "execution_count": 23,
     "metadata": {},
     "output_type": "execute_result"
    }
   ],
   "source": [
    "label = validate_df['label']\n",
    "Y_validate = [i for i in label]\n",
    "Y_validate = np.array(Y_validate)\n",
    "Y_validate = Y_validate.reshape(len(Y_validate),1)\n",
    "Y_validate.shape"
   ]
  },
  {
   "cell_type": "code",
   "execution_count": 24,
   "metadata": {},
   "outputs": [
    {
     "data": {
      "text/plain": [
       "array([[12],\n",
       "       [ 5]])"
      ]
     },
     "execution_count": 24,
     "metadata": {},
     "output_type": "execute_result"
    }
   ],
   "source": [
    "Y_validate[:2]"
   ]
  },
  {
   "cell_type": "code",
   "execution_count": 25,
   "metadata": {},
   "outputs": [],
   "source": [
    "np.save('X_validate',X_validate)"
   ]
  },
  {
   "cell_type": "code",
   "execution_count": 26,
   "metadata": {},
   "outputs": [],
   "source": [
    "np.save('Y_validate',Y_validate)"
   ]
  },
  {
   "cell_type": "markdown",
   "metadata": {},
   "source": [
    "X_test prepare"
   ]
  },
  {
   "cell_type": "code",
   "execution_count": 18,
   "metadata": {},
   "outputs": [
    {
     "data": {
      "text/plain": [
       "(1249, 227, 227, 3)"
      ]
     },
     "execution_count": 18,
     "metadata": {},
     "output_type": "execute_result"
    }
   ],
   "source": [
    "imglist = test_df['image_id'].tolist()\n",
    "X_test = np.empty((len(imglist),227,227,3))\n",
    "X_test.shape"
   ]
  },
  {
   "cell_type": "code",
   "execution_count": 19,
   "metadata": {},
   "outputs": [],
   "source": [
    "count=0\n",
    "nonelist=[]\n",
    "for img_name in imglist:\n",
    "    img_path = path + img_name\n",
    "    try:\n",
    "        img = image.load_img(img_path, target_size=(227,227))\n",
    "        X_test[count]=img\n",
    "        count+=1\n",
    "    except:\n",
    "        nonelist.append(img_path)"
   ]
  },
  {
   "cell_type": "code",
   "execution_count": 20,
   "metadata": {},
   "outputs": [
    {
     "data": {
      "text/plain": [
       "(1249, 227, 227, 3)"
      ]
     },
     "execution_count": 20,
     "metadata": {},
     "output_type": "execute_result"
    }
   ],
   "source": [
    "X_test.shape"
   ]
  },
  {
   "cell_type": "code",
   "execution_count": 21,
   "metadata": {},
   "outputs": [
    {
     "data": {
      "text/plain": [
       "array([[[[147., 191., 252.],\n",
       "         [149., 191., 251.],\n",
       "         [146., 190., 253.],\n",
       "         ...,\n",
       "         [ 32.,  79., 149.],\n",
       "         [ 31.,  84., 152.],\n",
       "         [ 36.,  83., 155.]],\n",
       "\n",
       "        [[149., 193., 255.],\n",
       "         [148., 192., 253.],\n",
       "         [148., 194., 253.],\n",
       "         ...,\n",
       "         [ 34.,  79., 147.],\n",
       "         [ 29.,  82., 148.],\n",
       "         [ 30.,  78., 152.]],\n",
       "\n",
       "        [[150., 194., 255.],\n",
       "         [146., 195., 255.],\n",
       "         [146., 196., 255.],\n",
       "         ...,\n",
       "         [ 35.,  74., 153.],\n",
       "         [ 35.,  78., 157.],\n",
       "         [ 24.,  83., 153.]],\n",
       "\n",
       "        ...,\n",
       "\n",
       "        [[220., 220., 220.],\n",
       "         [220., 220., 220.],\n",
       "         [220., 220., 220.],\n",
       "         ...,\n",
       "         [228., 228., 228.],\n",
       "         [220., 220., 220.],\n",
       "         [220., 220., 220.]],\n",
       "\n",
       "        [[220., 220., 220.],\n",
       "         [220., 220., 220.],\n",
       "         [220., 220., 220.],\n",
       "         ...,\n",
       "         [220., 220., 220.],\n",
       "         [220., 220., 220.],\n",
       "         [220., 220., 220.]],\n",
       "\n",
       "        [[220., 220., 220.],\n",
       "         [220., 220., 220.],\n",
       "         [220., 220., 220.],\n",
       "         ...,\n",
       "         [220., 218., 219.],\n",
       "         [220., 218., 219.],\n",
       "         [220., 218., 219.]]],\n",
       "\n",
       "\n",
       "       [[[148., 174., 223.],\n",
       "         [147., 174., 217.],\n",
       "         [146., 170., 218.],\n",
       "         ...,\n",
       "         [159., 184., 225.],\n",
       "         [161., 182., 225.],\n",
       "         [160., 181., 224.]],\n",
       "\n",
       "        [[149., 175., 224.],\n",
       "         [152., 172., 222.],\n",
       "         [152., 172., 222.],\n",
       "         ...,\n",
       "         [160., 189., 229.],\n",
       "         [157., 185., 225.],\n",
       "         [158., 186., 225.]],\n",
       "\n",
       "        [[145., 172., 217.],\n",
       "         [145., 172., 219.],\n",
       "         [149., 165., 216.],\n",
       "         ...,\n",
       "         [161., 184., 226.],\n",
       "         [155., 184., 224.],\n",
       "         [158., 183., 224.]],\n",
       "\n",
       "        ...,\n",
       "\n",
       "        [[220., 220., 220.],\n",
       "         [220., 220., 220.],\n",
       "         [221., 221., 221.],\n",
       "         ...,\n",
       "         [219., 219., 219.],\n",
       "         [222., 222., 222.],\n",
       "         [223., 221., 222.]],\n",
       "\n",
       "        [[220., 220., 220.],\n",
       "         [220., 220., 220.],\n",
       "         [220., 220., 220.],\n",
       "         ...,\n",
       "         [216., 216., 216.],\n",
       "         [220., 220., 220.],\n",
       "         [222., 220., 234.]],\n",
       "\n",
       "        [[220., 220., 220.],\n",
       "         [220., 220., 222.],\n",
       "         [219., 219., 221.],\n",
       "         ...,\n",
       "         [225., 214., 218.],\n",
       "         [226., 222., 223.],\n",
       "         [225., 221., 212.]]]])"
      ]
     },
     "execution_count": 21,
     "metadata": {},
     "output_type": "execute_result"
    }
   ],
   "source": [
    "X_test[:2]"
   ]
  },
  {
   "cell_type": "code",
   "execution_count": 22,
   "metadata": {},
   "outputs": [
    {
     "data": {
      "text/plain": [
       "(1249, 1)"
      ]
     },
     "execution_count": 22,
     "metadata": {},
     "output_type": "execute_result"
    }
   ],
   "source": [
    "label = test_df['label']\n",
    "Y_test = [i for i in label]\n",
    "Y_test = np.array(Y_test)\n",
    "Y_test = Y_test.reshape(len(Y_test),1)\n",
    "Y_test.shape"
   ]
  },
  {
   "cell_type": "code",
   "execution_count": 23,
   "metadata": {},
   "outputs": [
    {
     "data": {
      "text/html": [
       "<div>\n",
       "<style scoped>\n",
       "    .dataframe tbody tr th:only-of-type {\n",
       "        vertical-align: middle;\n",
       "    }\n",
       "\n",
       "    .dataframe tbody tr th {\n",
       "        vertical-align: top;\n",
       "    }\n",
       "\n",
       "    .dataframe thead th {\n",
       "        text-align: right;\n",
       "    }\n",
       "</style>\n",
       "<table border=\"1\" class=\"dataframe\">\n",
       "  <thead>\n",
       "    <tr style=\"text-align: right;\">\n",
       "      <th></th>\n",
       "      <th>image_id</th>\n",
       "      <th>label</th>\n",
       "    </tr>\n",
       "  </thead>\n",
       "  <tbody>\n",
       "    <tr>\n",
       "      <th>0</th>\n",
       "      <td>S10_N08_R2_IMAG0811.JPG</td>\n",
       "      <td>2</td>\n",
       "    </tr>\n",
       "    <tr>\n",
       "      <th>1</th>\n",
       "      <td>S10_H02_R2_IMAG0465.JPG</td>\n",
       "      <td>3</td>\n",
       "    </tr>\n",
       "  </tbody>\n",
       "</table>\n",
       "</div>"
      ],
      "text/plain": [
       "                  image_id  label\n",
       "0  S10_N08_R2_IMAG0811.JPG      2\n",
       "1  S10_H02_R2_IMAG0465.JPG      3"
      ]
     },
     "execution_count": 23,
     "metadata": {},
     "output_type": "execute_result"
    }
   ],
   "source": [
    "test_df[:2]"
   ]
  },
  {
   "cell_type": "code",
   "execution_count": 24,
   "metadata": {},
   "outputs": [
    {
     "data": {
      "text/plain": [
       "array([[2],\n",
       "       [3]])"
      ]
     },
     "execution_count": 24,
     "metadata": {},
     "output_type": "execute_result"
    }
   ],
   "source": [
    "Y_test[:2]"
   ]
  },
  {
   "cell_type": "code",
   "execution_count": 25,
   "metadata": {},
   "outputs": [],
   "source": [
    "np.save('X_test',X_test)\n",
    "np.save('Y_test',Y_test)"
   ]
  },
  {
   "cell_type": "code",
   "execution_count": null,
   "metadata": {},
   "outputs": [],
   "source": []
  },
  {
   "cell_type": "code",
   "execution_count": null,
   "metadata": {},
   "outputs": [],
   "source": []
  },
  {
   "cell_type": "code",
   "execution_count": null,
   "metadata": {},
   "outputs": [],
   "source": []
  },
  {
   "cell_type": "code",
   "execution_count": null,
   "metadata": {},
   "outputs": [],
   "source": []
  },
  {
   "cell_type": "code",
   "execution_count": null,
   "metadata": {},
   "outputs": [],
   "source": []
  },
  {
   "cell_type": "code",
   "execution_count": null,
   "metadata": {},
   "outputs": [],
   "source": []
  },
  {
   "cell_type": "code",
   "execution_count": null,
   "metadata": {},
   "outputs": [],
   "source": []
  },
  {
   "cell_type": "code",
   "execution_count": null,
   "metadata": {},
   "outputs": [],
   "source": []
  }
 ],
 "metadata": {
  "kernelspec": {
   "display_name": "Python 3",
   "language": "python",
   "name": "python3"
  },
  "language_info": {
   "codemirror_mode": {
    "name": "ipython",
    "version": 3
   },
   "file_extension": ".py",
   "mimetype": "text/x-python",
   "name": "python",
   "nbconvert_exporter": "python",
   "pygments_lexer": "ipython3",
   "version": "3.7.3"
  }
 },
 "nbformat": 4,
 "nbformat_minor": 4
}
