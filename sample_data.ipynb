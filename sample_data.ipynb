{
 "cells": [
  {
   "cell_type": "code",
   "execution_count": 1,
   "metadata": {},
   "outputs": [],
   "source": [
    "import pandas as pd\n",
    "import numpy as np\n",
    "import csv\n",
    "import json\n",
    "import random\n",
    "import matplotlib.pyplot as plt"
   ]
  },
  {
   "cell_type": "code",
   "execution_count": 2,
   "metadata": {},
   "outputs": [],
   "source": [
    "train_file = '/root/data/S10.json'\n",
    "with open(train_file) as data_file:\n",
    "    train_anns=json.load(data_file)"
   ]
  },
  {
   "cell_type": "code",
   "execution_count": 3,
   "metadata": {},
   "outputs": [
    {
     "data": {
      "text/plain": [
       "[{'sequence_level_annotation': True,\n",
       "  'id': '4dec24e3-955a-11e9-8c32-000d3a198845',\n",
       "  'category_id': 0,\n",
       "  'seq_id': 'SER_S10#B03#1#1',\n",
       "  'season': 'S10',\n",
       "  'datetime': '2015-01-16 11:31:41',\n",
       "  'subject_id': 'ASG001y55b',\n",
       "  'count': nan,\n",
       "  'standing': nan,\n",
       "  'resting': nan,\n",
       "  'moving': nan,\n",
       "  'interacting': nan,\n",
       "  'young_present': nan,\n",
       "  'image_id': 'S10/B03/B03_R1/S10_B03_R1_IMAG0001',\n",
       "  'location': 'B03'}]"
      ]
     },
     "execution_count": 3,
     "metadata": {},
     "output_type": "execute_result"
    }
   ],
   "source": [
    "train_anns['annotations'][:1]"
   ]
  },
  {
   "cell_type": "code",
   "execution_count": 4,
   "metadata": {},
   "outputs": [],
   "source": [
    "img_5=[]\n",
    "for i in train_anns['annotations']:\n",
    "    if i['category_id'] == 5:\n",
    "        img_5.append(i['image_id']+'.JPG')\n",
    "img_5_1w = random.sample(img_5, 1300)"
   ]
  },
  {
   "cell_type": "code",
   "execution_count": 5,
   "metadata": {},
   "outputs": [],
   "source": [
    "img_21=[]\n",
    "for i in train_anns['annotations']:\n",
    "    if i['category_id'] == 21:\n",
    "        img_21.append(i['image_id']+'.JPG')\n",
    "img_21_1w = random.sample(img_21,1300)"
   ]
  },
  {
   "cell_type": "code",
   "execution_count": 6,
   "metadata": {},
   "outputs": [],
   "source": [
    "img_list = img_5_1w+img_21_1w"
   ]
  },
  {
   "cell_type": "code",
   "execution_count": 7,
   "metadata": {},
   "outputs": [
    {
     "data": {
      "text/plain": [
       "2600"
      ]
     },
     "execution_count": 7,
     "metadata": {},
     "output_type": "execute_result"
    }
   ],
   "source": [
    "len(img_list)"
   ]
  },
  {
   "cell_type": "code",
   "execution_count": 8,
   "metadata": {},
   "outputs": [
    {
     "data": {
      "text/plain": [
       "['S10/H05/H05_R1/S10_H05_R1_IMAG0191.JPG',\n",
       " 'S10/P10/P10_R2/S10_P10_R2_IMAG1994.JPG']"
      ]
     },
     "execution_count": 8,
     "metadata": {},
     "output_type": "execute_result"
    }
   ],
   "source": [
    "img_list[:2]"
   ]
  },
  {
   "cell_type": "code",
   "execution_count": 9,
   "metadata": {},
   "outputs": [],
   "source": [
    "label_dict = {}\n",
    "for i in train_anns['annotations']:\n",
    "    i_new = i['image_id'] + '.JPG'\n",
    "    if i_new in img_list:\n",
    "        label_dict[i_new]=i['category_id']"
   ]
  },
  {
   "cell_type": "code",
   "execution_count": 10,
   "metadata": {},
   "outputs": [
    {
     "data": {
      "text/plain": [
       "2600"
      ]
     },
     "execution_count": 10,
     "metadata": {},
     "output_type": "execute_result"
    }
   ],
   "source": [
    "len(label_dict)"
   ]
  },
  {
   "cell_type": "code",
   "execution_count": 39,
   "metadata": {},
   "outputs": [
    {
     "data": {
      "text/html": [
       "<div>\n",
       "<style scoped>\n",
       "    .dataframe tbody tr th:only-of-type {\n",
       "        vertical-align: middle;\n",
       "    }\n",
       "\n",
       "    .dataframe tbody tr th {\n",
       "        vertical-align: top;\n",
       "    }\n",
       "\n",
       "    .dataframe thead th {\n",
       "        text-align: right;\n",
       "    }\n",
       "</style>\n",
       "<table border=\"1\" class=\"dataframe\">\n",
       "  <thead>\n",
       "    <tr style=\"text-align: right;\">\n",
       "      <th></th>\n",
       "      <th>image_id</th>\n",
       "      <th>label</th>\n",
       "    </tr>\n",
       "  </thead>\n",
       "  <tbody>\n",
       "    <tr>\n",
       "      <td>0</td>\n",
       "      <td>S10/B03/B03_R1/S10_B03_R1_IMAG0982.JPG</td>\n",
       "      <td>5</td>\n",
       "    </tr>\n",
       "    <tr>\n",
       "      <td>1</td>\n",
       "      <td>S10/B03/B03_R1/S10_B03_R1_IMAG0987.JPG</td>\n",
       "      <td>5</td>\n",
       "    </tr>\n",
       "    <tr>\n",
       "      <td>2</td>\n",
       "      <td>S10/B03/B03_R1/S10_B03_R1_IMAG1003.JPG</td>\n",
       "      <td>5</td>\n",
       "    </tr>\n",
       "    <tr>\n",
       "      <td>3</td>\n",
       "      <td>S10/B03/B03_R1/S10_B03_R1_IMAG1042.JPG</td>\n",
       "      <td>5</td>\n",
       "    </tr>\n",
       "    <tr>\n",
       "      <td>4</td>\n",
       "      <td>S10/B03/B03_R1/S10_B03_R1_IMAG1044.JPG</td>\n",
       "      <td>5</td>\n",
       "    </tr>\n",
       "  </tbody>\n",
       "</table>\n",
       "</div>"
      ],
      "text/plain": [
       "                                 image_id  label\n",
       "0  S10/B03/B03_R1/S10_B03_R1_IMAG0982.JPG      5\n",
       "1  S10/B03/B03_R1/S10_B03_R1_IMAG0987.JPG      5\n",
       "2  S10/B03/B03_R1/S10_B03_R1_IMAG1003.JPG      5\n",
       "3  S10/B03/B03_R1/S10_B03_R1_IMAG1042.JPG      5\n",
       "4  S10/B03/B03_R1/S10_B03_R1_IMAG1044.JPG      5"
      ]
     },
     "execution_count": 39,
     "metadata": {},
     "output_type": "execute_result"
    }
   ],
   "source": [
    "df = pd.DataFrame.from_dict(label_dict,orient='index',columns=['label'])\n",
    "df = df.reset_index().rename(columns={'index':'image_id'})\n",
    "df.head()"
   ]
  },
  {
   "cell_type": "code",
   "execution_count": 40,
   "metadata": {},
   "outputs": [
    {
     "data": {
      "image/png": "[encoded data removed]",
      "text/plain": [
       "<Figure size 432x288 with 1 Axes>"
      ]
     },
     "metadata": {
      "needs_background": "light"
     },
     "output_type": "display_data"
    }
   ],
   "source": [
    "df['label'].value_counts().plot.bar()\n",
    "plt.show()"
   ]
  },
  {
   "cell_type": "code",
   "execution_count": 50,
   "metadata": {},
   "outputs": [
    {
     "data": {
      "text/plain": [
       "array([ 5, 21, 39])"
      ]
     },
     "execution_count": 50,
     "metadata": {},
     "output_type": "execute_result"
    }
   ],
   "source": [
    "df.label.unique()"
   ]
  },
  {
   "cell_type": "code",
   "execution_count": 59,
   "metadata": {},
   "outputs": [],
   "source": [
    "df.loc[df.label == 39, 'label']=21"
   ]
  },
  {
   "cell_type": "code",
   "execution_count": 60,
   "metadata": {},
   "outputs": [
    {
     "data": {
      "text/plain": [
       "array([ 5, 21])"
      ]
     },
     "execution_count": 60,
     "metadata": {},
     "output_type": "execute_result"
    }
   ],
   "source": [
    "df.label.unique()"
   ]
  },
  {
   "cell_type": "code",
   "execution_count": 61,
   "metadata": {},
   "outputs": [
    {
     "data": {
      "image/png": "[encoded data removed]",
      "text/plain": [
       "<Figure size 432x288 with 1 Axes>"
      ]
     },
     "metadata": {
      "needs_background": "light"
     },
     "output_type": "display_data"
    }
   ],
   "source": [
    "df['label'].value_counts().plot.bar()\n",
    "plt.show()"
   ]
  },
  {
   "cell_type": "markdown",
   "metadata": {},
   "source": [
    "### Modeling"
   ]
  },
  {
   "cell_type": "code",
   "execution_count": 17,
   "metadata": {},
   "outputs": [
    {
     "name": "stderr",
     "output_type": "stream",
     "text": [
      "Using TensorFlow backend.\n"
     ]
    }
   ],
   "source": [
    "import tensorflow as tf\n",
    "import os\n",
    "import random\n",
    "from tensorflow.keras.optimizers import RMSprop\n",
    "from tensorflow.keras.preprocessing.image import ImageDataGenerator, load_img\n",
    "from shutil import copyfile\n",
    "import numpy as np\n",
    "import pandas  as pd\n",
    "from keras.utils import to_categorical\n",
    "from sklearn.model_selection import train_test_split\n",
    "import matplotlib.pyplot as plt\n",
    "\n",
    "import os\n",
    "import json\n",
    "\n",
    "import numpy as np\n",
    "import pandas as pd\n",
    "import keras\n",
    "from keras.callbacks import Callback\n",
    "from keras.datasets import cifar10\n",
    "from keras.preprocessing.image import ImageDataGenerator\n",
    "from keras.models import Sequential\n",
    "from keras.layers import Dense, Dropout, Activation, Flatten\n",
    "from keras.layers import Conv2D, MaxPooling2D\n",
    "from sklearn.metrics import confusion_matrix, f1_score, precision_score, recall_score\n",
    "from sklearn.model_selection import train_test_split"
   ]
  },
  {
   "cell_type": "code",
   "execution_count": 18,
   "metadata": {},
   "outputs": [],
   "source": [
    "IMAGE_WIDTH=128\n",
    "IMAGE_HEIGHT=128\n",
    "IMAGE_SIZE=(IMAGE_WIDTH, IMAGE_HEIGHT)\n",
    "IMAGE_CHANNELS=3"
   ]
  },
  {
   "cell_type": "code",
   "execution_count": 19,
   "metadata": {},
   "outputs": [],
   "source": [
    "class Metrics(Callback):\n",
    "    def on_train_begin(self, logs={}):\n",
    "        self.val_f1s = []\n",
    "        self.val_recalls = []\n",
    "        self.val_precisions = []\n",
    "\n",
    "    def on_epoch_end(self, epoch, logs={}):\n",
    "        X_val, y_val = self.validation_data[:2]\n",
    "        y_pred = self.model.predict(X_val)\n",
    "\n",
    "        y_pred_cat = keras.utils.to_categorical(\n",
    "            y_pred.argmax(axis=1),\n",
    "            num_classes=num_classes\n",
    "        )\n",
    "\n",
    "        _val_f1 = f1_score(y_val, y_pred_cat, average='macro')\n",
    "        _val_recall = recall_score(y_val, y_pred_cat, average='macro')\n",
    "        _val_precision = precision_score(y_val, y_pred_cat, average='macro')\n",
    "\n",
    "        self.val_f1s.append(_val_f1)\n",
    "        self.val_recalls.append(_val_recall)\n",
    "        self.val_precisions.append(_val_precision)\n",
    "\n",
    "        print((f\"val_f1: {_val_f1:.4f}\"\n",
    "               f\" ? val_precision: {_val_precision:.4f}\"\n",
    "               f\" ? val_recall: {_val_recall:.4f}\"))\n",
    "\n",
    "        return\n"
   ]
  },
  {
   "cell_type": "code",
   "execution_count": 20,
   "metadata": {},
   "outputs": [],
   "source": [
    "batch_size = 64\n",
    "num_classes = 2\n",
    "epochs = 30\n",
    "val_split = 0.1\n",
    "save_dir = os.path.join(os.getcwd(), 'models')\n",
    "model_name = 'keras_cnn_model.h5'"
   ]
  },
  {
   "cell_type": "code",
   "execution_count": 21,
   "metadata": {},
   "outputs": [
    {
     "name": "stdout",
     "output_type": "stream",
     "text": [
      "WARNING:tensorflow:From /root/anaconda3/lib/python3.7/site-packages/keras/backend/tensorflow_backend.py:74: The name tf.get_default_graph is deprecated. Please use tf.compat.v1.get_default_graph instead.\n",
      "\n",
      "WARNING:tensorflow:From /root/anaconda3/lib/python3.7/site-packages/keras/backend/tensorflow_backend.py:517: The name tf.placeholder is deprecated. Please use tf.compat.v1.placeholder instead.\n",
      "\n",
      "WARNING:tensorflow:From /root/anaconda3/lib/python3.7/site-packages/keras/backend/tensorflow_backend.py:4138: The name tf.random_uniform is deprecated. Please use tf.random.uniform instead.\n",
      "\n",
      "WARNING:tensorflow:From /root/anaconda3/lib/python3.7/site-packages/keras/backend/tensorflow_backend.py:3976: The name tf.nn.max_pool is deprecated. Please use tf.nn.max_pool2d instead.\n",
      "\n",
      "WARNING:tensorflow:From /root/anaconda3/lib/python3.7/site-packages/keras/backend/tensorflow_backend.py:133: The name tf.placeholder_with_default is deprecated. Please use tf.compat.v1.placeholder_with_default instead.\n",
      "\n",
      "WARNING:tensorflow:From /root/anaconda3/lib/python3.7/site-packages/keras/backend/tensorflow_backend.py:3445: calling dropout (from tensorflow.python.ops.nn_ops) with keep_prob is deprecated and will be removed in a future version.\n",
      "Instructions for updating:\n",
      "Please use `rate` instead of `keep_prob`. Rate should be set to `rate = 1 - keep_prob`.\n"
     ]
    }
   ],
   "source": [
    "model = Sequential()\n",
    "model.add(Conv2D(32, (3, 3), padding='same',\n",
    "                 input_shape=(128,128,3)))\n",
    "model.add(Activation('relu'))\n",
    "model.add(Conv2D(32, (3, 3)))\n",
    "model.add(Activation('relu'))\n",
    "model.add(MaxPooling2D(pool_size=(2, 2)))\n",
    "model.add(Dropout(0.25))\n",
    "\n",
    "model.add(Conv2D(64, (3, 3), padding='same'))\n",
    "model.add(Activation('relu'))\n",
    "model.add(Conv2D(64, (3, 3)))\n",
    "model.add(Activation('relu'))\n",
    "model.add(MaxPooling2D(pool_size=(2, 2)))\n",
    "model.add(Dropout(0.25))\n",
    "\n",
    "model.add(Flatten())\n",
    "model.add(Dense(512))\n",
    "model.add(Activation('relu'))\n",
    "model.add(Dropout(0.5))\n",
    "model.add(Dense(2))\n",
    "model.add(Activation('softmax'))"
   ]
  },
  {
   "cell_type": "code",
   "execution_count": 22,
   "metadata": {},
   "outputs": [
    {
     "name": "stdout",
     "output_type": "stream",
     "text": [
      "WARNING:tensorflow:From /root/anaconda3/lib/python3.7/site-packages/keras/optimizers.py:790: The name tf.train.Optimizer is deprecated. Please use tf.compat.v1.train.Optimizer instead.\n",
      "\n",
      "WARNING:tensorflow:From /root/anaconda3/lib/python3.7/site-packages/keras/backend/tensorflow_backend.py:3295: The name tf.log is deprecated. Please use tf.math.log instead.\n",
      "\n"
     ]
    },
    {
     "ename": "NameError",
     "evalue": "name 'x_train' is not defined",
     "output_type": "error",
     "traceback": [
      "\u001b[0;31m---------------------------------------------------------------------------\u001b[0m",
      "\u001b[0;31mNameError\u001b[0m                                 Traceback (most recent call last)",
      "\u001b[0;32m<ipython-input-22-25ef72576a58>\u001b[0m in \u001b[0;36m<module>\u001b[0;34m\u001b[0m\n\u001b[1;32m      8\u001b[0m \u001b[0;34m\u001b[0m\u001b[0m\n\u001b[1;32m      9\u001b[0m hist = model.fit(\n\u001b[0;32m---> 10\u001b[0;31m     \u001b[0mx_train\u001b[0m\u001b[0;34m,\u001b[0m\u001b[0;34m\u001b[0m\u001b[0;34m\u001b[0m\u001b[0m\n\u001b[0m\u001b[1;32m     11\u001b[0m     \u001b[0my_train\u001b[0m\u001b[0;34m,\u001b[0m\u001b[0;34m\u001b[0m\u001b[0;34m\u001b[0m\u001b[0m\n\u001b[1;32m     12\u001b[0m     \u001b[0mbatch_size\u001b[0m\u001b[0;34m=\u001b[0m\u001b[0mbatch_size\u001b[0m\u001b[0;34m,\u001b[0m\u001b[0;34m\u001b[0m\u001b[0;34m\u001b[0m\u001b[0m\n",
      "\u001b[0;31mNameError\u001b[0m: name 'x_train' is not defined"
     ]
    }
   ],
   "source": [
    "f1_metrics = Metrics()\n",
    "\n",
    "model.compile(\n",
    "    loss='categorical_crossentropy',\n",
    "    optimizer='adam',\n",
    "    metrics=['accuracy']\n",
    ")\n",
    "\n",
    "hist = model.fit(\n",
    "    x_train, \n",
    "    y_train,\n",
    "    batch_size=batch_size,\n",
    "    epochs=epochs,\n",
    "    callbacks=[f1_metrics],\n",
    "    validation_split=val_split,\n",
    "    shuffle=True\n",
    ")"
   ]
  },
  {
   "cell_type": "code",
   "execution_count": 64,
   "metadata": {},
   "outputs": [],
   "source": [
    "df['label']=df['label'].replace({5:'zebra',21:'lionfemale'})"
   ]
  },
  {
   "cell_type": "code",
   "execution_count": 65,
   "metadata": {},
   "outputs": [
    {
     "data": {
      "text/html": [
       "<div>\n",
       "<style scoped>\n",
       "    .dataframe tbody tr th:only-of-type {\n",
       "        vertical-align: middle;\n",
       "    }\n",
       "\n",
       "    .dataframe tbody tr th {\n",
       "        vertical-align: top;\n",
       "    }\n",
       "\n",
       "    .dataframe thead th {\n",
       "        text-align: right;\n",
       "    }\n",
       "</style>\n",
       "<table border=\"1\" class=\"dataframe\">\n",
       "  <thead>\n",
       "    <tr style=\"text-align: right;\">\n",
       "      <th></th>\n",
       "      <th>image_id</th>\n",
       "      <th>label</th>\n",
       "    </tr>\n",
       "  </thead>\n",
       "  <tbody>\n",
       "    <tr>\n",
       "      <td>0</td>\n",
       "      <td>S10/B03/B03_R1/S10_B03_R1_IMAG0982.JPG</td>\n",
       "      <td>zebra</td>\n",
       "    </tr>\n",
       "    <tr>\n",
       "      <td>1</td>\n",
       "      <td>S10/B03/B03_R1/S10_B03_R1_IMAG0987.JPG</td>\n",
       "      <td>zebra</td>\n",
       "    </tr>\n",
       "    <tr>\n",
       "      <td>2</td>\n",
       "      <td>S10/B03/B03_R1/S10_B03_R1_IMAG1003.JPG</td>\n",
       "      <td>zebra</td>\n",
       "    </tr>\n",
       "    <tr>\n",
       "      <td>3</td>\n",
       "      <td>S10/B03/B03_R1/S10_B03_R1_IMAG1042.JPG</td>\n",
       "      <td>zebra</td>\n",
       "    </tr>\n",
       "    <tr>\n",
       "      <td>4</td>\n",
       "      <td>S10/B03/B03_R1/S10_B03_R1_IMAG1044.JPG</td>\n",
       "      <td>zebra</td>\n",
       "    </tr>\n",
       "  </tbody>\n",
       "</table>\n",
       "</div>"
      ],
      "text/plain": [
       "                                 image_id  label\n",
       "0  S10/B03/B03_R1/S10_B03_R1_IMAG0982.JPG  zebra\n",
       "1  S10/B03/B03_R1/S10_B03_R1_IMAG0987.JPG  zebra\n",
       "2  S10/B03/B03_R1/S10_B03_R1_IMAG1003.JPG  zebra\n",
       "3  S10/B03/B03_R1/S10_B03_R1_IMAG1042.JPG  zebra\n",
       "4  S10/B03/B03_R1/S10_B03_R1_IMAG1044.JPG  zebra"
      ]
     },
     "execution_count": 65,
     "metadata": {},
     "output_type": "execute_result"
    }
   ],
   "source": [
    "df.head()"
   ]
  },
  {
   "cell_type": "code",
   "execution_count": 66,
   "metadata": {},
   "outputs": [],
   "source": [
    "train_df, validate_df = train_test_split(df, test_size=0.30, random_state=523)\n",
    "train_df = train_df.reset_index(drop=True)\n",
    "validate_df = validate_df.reset_index(drop=True)"
   ]
  },
  {
   "cell_type": "code",
   "execution_count": 67,
   "metadata": {},
   "outputs": [
    {
     "data": {
      "text/plain": [
       "1820"
      ]
     },
     "execution_count": 67,
     "metadata": {},
     "output_type": "execute_result"
    }
   ],
   "source": [
    "len(train_df)"
   ]
  },
  {
   "cell_type": "code",
   "execution_count": 68,
   "metadata": {},
   "outputs": [
    {
     "data": {
      "text/plain": [
       "780"
      ]
     },
     "execution_count": 68,
     "metadata": {},
     "output_type": "execute_result"
    }
   ],
   "source": [
    "len(validate_df)"
   ]
  },
  {
   "cell_type": "code",
   "execution_count": 69,
   "metadata": {},
   "outputs": [
    {
     "data": {
      "text/plain": [
       "<matplotlib.axes._subplots.AxesSubplot at 0x7fd627fad510>"
      ]
     },
     "execution_count": 69,
     "metadata": {},
     "output_type": "execute_result"
    },
    {
     "data": {
      "image/png": "[encoded data removed]",
      "text/plain": [
       "<Figure size 432x288 with 1 Axes>"
      ]
     },
     "metadata": {
      "needs_background": "light"
     },
     "output_type": "display_data"
    }
   ],
   "source": [
    "train_df['label'].value_counts().plot.bar()"
   ]
  },
  {
   "cell_type": "code",
   "execution_count": 70,
   "metadata": {},
   "outputs": [
    {
     "data": {
      "text/plain": [
       "<matplotlib.axes._subplots.AxesSubplot at 0x7fd62c03de90>"
      ]
     },
     "execution_count": 70,
     "metadata": {},
     "output_type": "execute_result"
    },
    {
     "data": {
      "image/png": "[encoded data removed]",
      "text/plain": [
       "<Figure size 432x288 with 1 Axes>"
      ]
     },
     "metadata": {
      "needs_background": "light"
     },
     "output_type": "display_data"
    }
   ],
   "source": [
    "validate_df['label'].value_counts().plot.bar()"
   ]
  },
  {
   "cell_type": "code",
   "execution_count": 71,
   "metadata": {},
   "outputs": [],
   "source": [
    "total_train = train_df.shape[0]\n",
    "total_validate = validate_df.shape[0]\n",
    "batch_size = 64"
   ]
  },
  {
   "cell_type": "code",
   "execution_count": 72,
   "metadata": {},
   "outputs": [
    {
     "data": {
      "text/plain": [
       "pandas.core.series.Series"
      ]
     },
     "execution_count": 72,
     "metadata": {},
     "output_type": "execute_result"
    }
   ],
   "source": [
    "type(train_df['image_id'][:1])"
   ]
  },
  {
   "cell_type": "code",
   "execution_count": 73,
   "metadata": {},
   "outputs": [],
   "source": [
    "train_datagen = ImageDataGenerator(\n",
    "    rotation_range=15,\n",
    "    rescale=1./255,\n",
    "    shear_range=0.1,\n",
    "    zoom_range=0.2,\n",
    "    horizontal_flip=True,\n",
    "    width_shift_range=0.1,\n",
    "    height_shift_range=0.1\n",
    ")"
   ]
  },
  {
   "cell_type": "code",
   "execution_count": 74,
   "metadata": {},
   "outputs": [
    {
     "name": "stdout",
     "output_type": "stream",
     "text": [
      "Found 1810 validated image filenames belonging to 2 classes.\n"
     ]
    },
    {
     "name": "stderr",
     "output_type": "stream",
     "text": [
      "/root/anaconda3/lib/python3.7/site-packages/keras_preprocessing/image/dataframe_iterator.py:273: UserWarning: Found 10 invalid image filename(s) in x_col=\"image_id\". These filename(s) will be ignored.\n",
      "  .format(n_invalid, x_col)\n"
     ]
    }
   ],
   "source": [
    "train_generator = train_datagen.flow_from_dataframe(\n",
    "    train_df,\n",
    "    \"/root/data/\",\n",
    "    x_col='image_id',\n",
    "    y_col='label',\n",
    "    target_size=(128,128),\n",
    "    class_mode=\"categorical\",\n",
    "    batch_size=10\n",
    ")"
   ]
  },
  {
   "cell_type": "code",
   "execution_count": 75,
   "metadata": {},
   "outputs": [
    {
     "name": "stdout",
     "output_type": "stream",
     "text": [
      "Found 771 validated image filenames belonging to 2 classes.\n"
     ]
    },
    {
     "name": "stderr",
     "output_type": "stream",
     "text": [
      "/root/anaconda3/lib/python3.7/site-packages/keras_preprocessing/image/dataframe_iterator.py:273: UserWarning: Found 9 invalid image filename(s) in x_col=\"image_id\". These filename(s) will be ignored.\n",
      "  .format(n_invalid, x_col)\n"
     ]
    }
   ],
   "source": [
    "validation_datagen = ImageDataGenerator(rescale=1./255)\n",
    "validation_generator = validation_datagen.flow_from_dataframe(\n",
    "    validate_df, \n",
    "    \"/root/data/\", \n",
    "    x_col='image_id',\n",
    "    y_col='label',\n",
    "    target_size=(128,128),\n",
    "    class_mode='categorical',\n",
    "    batch_size=batch_size\n",
    ")\n"
   ]
  },
  {
   "cell_type": "code",
   "execution_count": 76,
   "metadata": {},
   "outputs": [
    {
     "data": {
      "text/html": [
       "<div>\n",
       "<style scoped>\n",
       "    .dataframe tbody tr th:only-of-type {\n",
       "        vertical-align: middle;\n",
       "    }\n",
       "\n",
       "    .dataframe tbody tr th {\n",
       "        vertical-align: top;\n",
       "    }\n",
       "\n",
       "    .dataframe thead th {\n",
       "        text-align: right;\n",
       "    }\n",
       "</style>\n",
       "<table border=\"1\" class=\"dataframe\">\n",
       "  <thead>\n",
       "    <tr style=\"text-align: right;\">\n",
       "      <th></th>\n",
       "      <th>image_id</th>\n",
       "      <th>label</th>\n",
       "    </tr>\n",
       "  </thead>\n",
       "  <tbody>\n",
       "    <tr>\n",
       "      <td>count</td>\n",
       "      <td>1820</td>\n",
       "      <td>1820</td>\n",
       "    </tr>\n",
       "    <tr>\n",
       "      <td>unique</td>\n",
       "      <td>1820</td>\n",
       "      <td>2</td>\n",
       "    </tr>\n",
       "    <tr>\n",
       "      <td>top</td>\n",
       "      <td>S10/K09/K09_R3/S10_K09_R3_IMAG0878.JPG</td>\n",
       "      <td>zebra</td>\n",
       "    </tr>\n",
       "    <tr>\n",
       "      <td>freq</td>\n",
       "      <td>1</td>\n",
       "      <td>917</td>\n",
       "    </tr>\n",
       "  </tbody>\n",
       "</table>\n",
       "</div>"
      ],
      "text/plain": [
       "                                      image_id  label\n",
       "count                                     1820   1820\n",
       "unique                                    1820      2\n",
       "top     S10/K09/K09_R3/S10_K09_R3_IMAG0878.JPG  zebra\n",
       "freq                                         1    917"
      ]
     },
     "execution_count": 76,
     "metadata": {},
     "output_type": "execute_result"
    }
   ],
   "source": [
    "train_df.describe()"
   ]
  },
  {
   "cell_type": "code",
   "execution_count": 79,
   "metadata": {},
   "outputs": [],
   "source": [
    "# check unique\n",
    "#p_new = df.groupby(['image_id']).size()\n",
    "#p_new"
   ]
  },
  {
   "cell_type": "code",
   "execution_count": 82,
   "metadata": {},
   "outputs": [],
   "source": [
    "from keras.callbacks import EarlyStopping, ReduceLROnPlateau"
   ]
  },
  {
   "cell_type": "code",
   "execution_count": 83,
   "metadata": {},
   "outputs": [],
   "source": [
    "earlystop = EarlyStopping(patience=10)"
   ]
  },
  {
   "cell_type": "code",
   "execution_count": 84,
   "metadata": {},
   "outputs": [],
   "source": [
    "learning_rate_reduction = ReduceLROnPlateau(monitor='val_acc', \n",
    "                                            patience=2, \n",
    "                                            verbose=1, \n",
    "                                            factor=0.5, \n",
    "                                            min_lr=0.00001)"
   ]
  },
  {
   "cell_type": "code",
   "execution_count": 86,
   "metadata": {},
   "outputs": [],
   "source": [
    "callbacks = [earlystop, learning_rate_reduction]"
   ]
  },
  {
   "cell_type": "code",
   "execution_count": 87,
   "metadata": {},
   "outputs": [
    {
     "name": "stdout",
     "output_type": "stream",
     "text": [
      "Epoch 1/30\n",
      "28/28 [==============================] - 102s 4s/step - loss: 0.6463 - acc: 0.6107 - val_loss: 0.5974 - val_acc: 0.7129\n",
      "Epoch 2/30\n",
      "28/28 [==============================] - 71s 3s/step - loss: 0.5845 - acc: 0.7286 - val_loss: 0.4659 - val_acc: 0.7935\n",
      "Epoch 3/30\n",
      "28/28 [==============================] - 70s 3s/step - loss: 0.6427 - acc: 0.7214 - val_loss: 0.6132 - val_acc: 0.7199\n",
      "Epoch 4/30\n",
      "28/28 [==============================] - 70s 2s/step - loss: 0.6390 - acc: 0.6250 - val_loss: 0.4985 - val_acc: 0.7680\n",
      "\n",
      "Epoch 00004: ReduceLROnPlateau reducing learning rate to 0.0005000000237487257.\n",
      "Epoch 5/30\n",
      "28/28 [==============================] - 76s 3s/step - loss: 0.5154 - acc: 0.7393 - val_loss: 0.4517 - val_acc: 0.8073\n",
      "Epoch 6/30\n",
      "28/28 [==============================] - 70s 2s/step - loss: 0.5209 - acc: 0.7429 - val_loss: 0.4383 - val_acc: 0.8020\n",
      "Epoch 7/30\n",
      "28/28 [==============================] - 70s 2s/step - loss: 0.4969 - acc: 0.8071 - val_loss: 0.4991 - val_acc: 0.7793\n",
      "\n",
      "Epoch 00007: ReduceLROnPlateau reducing learning rate to 0.0002500000118743628.\n",
      "Epoch 8/30\n",
      "28/28 [==============================] - 69s 2s/step - loss: 0.5235 - acc: 0.7536 - val_loss: 0.4866 - val_acc: 0.7935\n",
      "Epoch 9/30\n",
      "28/28 [==============================] - 70s 2s/step - loss: 0.4788 - acc: 0.8286 - val_loss: 0.5724 - val_acc: 0.7553\n",
      "\n",
      "Epoch 00009: ReduceLROnPlateau reducing learning rate to 0.0001250000059371814.\n",
      "Epoch 10/30\n",
      "28/28 [==============================] - 70s 2s/step - loss: 0.4280 - acc: 0.8143 - val_loss: 0.5449 - val_acc: 0.7850\n",
      "Epoch 11/30\n",
      "28/28 [==============================] - 69s 2s/step - loss: 0.4845 - acc: 0.7536 - val_loss: 0.4689 - val_acc: 0.7878\n",
      "\n",
      "Epoch 00011: ReduceLROnPlateau reducing learning rate to 6.25000029685907e-05.\n",
      "Epoch 12/30\n",
      "28/28 [==============================] - 70s 2s/step - loss: 0.4233 - acc: 0.8214 - val_loss: 0.5160 - val_acc: 0.7808\n",
      "Epoch 13/30\n",
      "28/28 [==============================] - 70s 2s/step - loss: 0.4470 - acc: 0.8107 - val_loss: 0.4846 - val_acc: 0.8034\n",
      "\n",
      "Epoch 00013: ReduceLROnPlateau reducing learning rate to 3.125000148429535e-05.\n",
      "Epoch 14/30\n",
      "28/28 [==============================] - 70s 2s/step - loss: 0.4280 - acc: 0.8214 - val_loss: 0.4895 - val_acc: 0.7864\n",
      "Epoch 15/30\n",
      "28/28 [==============================] - 70s 3s/step - loss: 0.4682 - acc: 0.7679 - val_loss: 0.5046 - val_acc: 0.7737\n",
      "\n",
      "Epoch 00015: ReduceLROnPlateau reducing learning rate to 1.5625000742147677e-05.\n",
      "Epoch 16/30\n",
      "28/28 [==============================] - 70s 2s/step - loss: 0.4710 - acc: 0.7607 - val_loss: 0.4662 - val_acc: 0.7949\n"
     ]
    }
   ],
   "source": [
    "epochs=30\n",
    "history = model.fit_generator(\n",
    "    train_generator, \n",
    "    epochs=epochs,\n",
    "    validation_data=validation_generator,\n",
    "    validation_steps=total_validate//batch_size,\n",
    "    steps_per_epoch=total_train//batch_size,\n",
    "    callbacks=callbacks\n",
    ")"
   ]
  },
  {
   "cell_type": "markdown",
   "metadata": {},
   "source": [
    "### try deep network"
   ]
  },
  {
   "cell_type": "markdown",
   "metadata": {},
   "source": [
    "https://www.jianshu.com/p/946bdebeb6fc"
   ]
  },
  {
   "cell_type": "code",
   "execution_count": 90,
   "metadata": {},
   "outputs": [],
   "source": [
    "import tensorflow as tf\n",
    "from keras.models import Sequential\n",
    "from keras.layers import Dense, Dropout, Activation, Flatten\n",
    "from keras.layers import Conv2D, MaxPooling2D, ZeroPadding2D, GlobalMaxPooling2D\n",
    "import keras\n",
    "from keras.datasets import cifar10\n",
    "import matplotlib\n",
    "matplotlib.use('Agg')\n",
    "import matplotlib.pyplot as plt\n",
    "from keras.preprocessing.image import ImageDataGenerator\n"
   ]
  },
  {
   "cell_type": "code",
   "execution_count": 97,
   "metadata": {},
   "outputs": [],
   "source": [
    "def quality_classify_model():\n",
    "    model = Sequential()\n",
    "\n",
    "    model.add(Conv2D(32, (3, 3), padding='same', input_shape=(128,128,3)))\n",
    "    model.add(Activation('relu'))\n",
    "    model.add(Conv2D(32, (3, 3), padding='same'))\n",
    "    model.add(Activation('relu'))\n",
    "    model.add(Conv2D(32, (3, 3), padding='same'))\n",
    "    model.add(Activation('relu'))\n",
    "    model.add(Conv2D(48, (3, 3), padding='same'))\n",
    "    model.add(Activation('relu'))\n",
    "    model.add(Conv2D(48, (3, 3), padding='same'))\n",
    "    model.add(Activation('relu'))\n",
    "    model.add(MaxPooling2D(pool_size=(2, 2)))\n",
    "    model.add(Dropout(0.25))\n",
    "\n",
    "    model.add(Conv2D(80, (3, 3), padding='same'))\n",
    "    \n",
    "    model.add(Activation('relu'))\n",
    "    model.add(Conv2D(80, (3, 3), padding='same'))\n",
    "    model.add(Activation('relu'))\n",
    "    model.add(Conv2D(80, (3, 3), padding='same'))\n",
    "    model.add(Activation('relu'))\n",
    "    model.add(Conv2D(80, (3, 3), padding='same'))\n",
    "    model.add(Activation('relu'))\n",
    "    model.add(Conv2D(80, (3, 3), padding='same'))\n",
    "    model.add(Activation('relu'))\n",
    "    model.add(MaxPooling2D(pool_size=(2, 2)))\n",
    "    model.add(Dropout(0.25))\n",
    "    \n",
    "    model.add(Conv2D(128, (3, 3), padding='same'))\n",
    "    model.add(Activation('relu'))\n",
    "    model.add(Conv2D(128, (3, 3), padding='same'))\n",
    "    model.add(Activation('relu'))\n",
    "    model.add(Conv2D(128, (3, 3), padding='same'))\n",
    "    model.add(Activation('relu'))\n",
    "    model.add(Conv2D(128, (3, 3), padding='same'))\n",
    "    model.add(Activation('relu'))\n",
    "    model.add(Conv2D(128, (3, 3), padding='same'))\n",
    "    model.add(Activation('relu'))\n",
    "    model.add(GlobalMaxPooling2D())\n",
    "    model.add(Dropout(0.25))\n",
    "\n",
    "    model.add(Dense(500))\n",
    "    model.add(Activation('relu'))\n",
    "    model.add(Dropout(0.25))\n",
    "    model.add(Dense(2))\n",
    "    model.add(Activation('softmax'))\n",
    "    # model.summary () # ????????\n",
    "\n",
    "    opt = keras.optimizers.Adam(lr=0.0001)\n",
    "    model.compile(loss='categorical_crossentropy', optimizer=opt, metrics=['accuracy'])\n",
    "\n",
    "    return model"
   ]
  },
  {
   "cell_type": "code",
   "execution_count": 100,
   "metadata": {},
   "outputs": [],
   "source": [
    "classes_num =2\n",
    "batch_size = 64\n",
    "epochs = 30"
   ]
  },
  {
   "cell_type": "code",
   "execution_count": 101,
   "metadata": {},
   "outputs": [
    {
     "data": {
      "text/plain": [
       "<keras.engine.sequential.Sequential at 0x7fd62753d250>"
      ]
     },
     "execution_count": 101,
     "metadata": {},
     "output_type": "execute_result"
    }
   ],
   "source": [
    "quality_classify_model()"
   ]
  },
  {
   "cell_type": "code",
   "execution_count": 102,
   "metadata": {},
   "outputs": [
    {
     "name": "stdout",
     "output_type": "stream",
     "text": [
      "Epoch 1/30\n",
      "28/28 [==============================] - 72s 3s/step - loss: 0.4352 - acc: 0.8143 - val_loss: 0.4915 - val_acc: 0.7864\n",
      "Epoch 2/30\n",
      "28/28 [==============================] - 70s 2s/step - loss: 0.4173 - acc: 0.8179 - val_loss: 0.4803 - val_acc: 0.7935\n",
      "Epoch 3/30\n",
      "28/28 [==============================] - 70s 2s/step - loss: 0.4013 - acc: 0.8143 - val_loss: 0.4926 - val_acc: 0.7907\n",
      "Epoch 4/30\n",
      "28/28 [==============================] - 69s 2s/step - loss: 0.4750 - acc: 0.7821 - val_loss: 0.4877 - val_acc: 0.7907\n",
      "Epoch 5/30\n",
      "28/28 [==============================] - 74s 3s/step - loss: 0.3961 - acc: 0.8143 - val_loss: 0.4800 - val_acc: 0.7956\n",
      "Epoch 6/30\n",
      "28/28 [==============================] - 70s 2s/step - loss: 0.4864 - acc: 0.7750 - val_loss: 0.4712 - val_acc: 0.8020\n",
      "Epoch 7/30\n",
      "28/28 [==============================] - 70s 3s/step - loss: 0.4449 - acc: 0.8286 - val_loss: 0.4632 - val_acc: 0.7963\n",
      "Epoch 8/30\n",
      "28/28 [==============================] - 69s 2s/step - loss: 0.4369 - acc: 0.8143 - val_loss: 0.5053 - val_acc: 0.7907\n",
      "Epoch 9/30\n",
      "28/28 [==============================] - 71s 3s/step - loss: 0.4597 - acc: 0.7893 - val_loss: 0.4809 - val_acc: 0.7864\n",
      "Epoch 10/30\n",
      "28/28 [==============================] - 70s 3s/step - loss: 0.4171 - acc: 0.8179 - val_loss: 0.5114 - val_acc: 0.7878\n",
      "Epoch 11/30\n",
      "28/28 [==============================] - 69s 2s/step - loss: 0.4604 - acc: 0.7893 - val_loss: 0.4415 - val_acc: 0.8076\n",
      "Epoch 12/30\n",
      "28/28 [==============================] - 70s 2s/step - loss: 0.4685 - acc: 0.8000 - val_loss: 0.4822 - val_acc: 0.7921\n",
      "Epoch 13/30\n",
      "28/28 [==============================] - 70s 3s/step - loss: 0.4193 - acc: 0.8286 - val_loss: 0.4853 - val_acc: 0.7793\n",
      "Epoch 14/30\n",
      "28/28 [==============================] - 70s 3s/step - loss: 0.4279 - acc: 0.8250 - val_loss: 0.4932 - val_acc: 0.7921\n",
      "Epoch 15/30\n",
      "28/28 [==============================] - 70s 3s/step - loss: 0.4487 - acc: 0.8179 - val_loss: 0.4734 - val_acc: 0.7977\n",
      "Epoch 16/30\n",
      "28/28 [==============================] - 71s 3s/step - loss: 0.4542 - acc: 0.7929 - val_loss: 0.4847 - val_acc: 0.7963\n",
      "Epoch 17/30\n",
      "28/28 [==============================] - 72s 3s/step - loss: 0.4171 - acc: 0.8357 - val_loss: 0.4919 - val_acc: 0.7907\n",
      "Epoch 18/30\n",
      "28/28 [==============================] - 74s 3s/step - loss: 0.4736 - acc: 0.7821 - val_loss: 0.4738 - val_acc: 0.8008\n",
      "Epoch 19/30\n",
      "28/28 [==============================] - 70s 2s/step - loss: 0.4769 - acc: 0.7750 - val_loss: 0.4946 - val_acc: 0.7878\n",
      "Epoch 20/30\n",
      "28/28 [==============================] - 70s 2s/step - loss: 0.4298 - acc: 0.8143 - val_loss: 0.4841 - val_acc: 0.7992\n",
      "Epoch 21/30\n",
      "28/28 [==============================] - 69s 2s/step - loss: 0.4177 - acc: 0.8214 - val_loss: 0.4742 - val_acc: 0.7836\n"
     ]
    }
   ],
   "source": [
    "history = model.fit_generator(\n",
    "    train_generator, \n",
    "    epochs=epochs,\n",
    "    validation_data=validation_generator,\n",
    "    validation_steps=total_validate//batch_size,\n",
    "    steps_per_epoch=total_train//batch_size,\n",
    "    callbacks=callbacks\n",
    ")"
   ]
  },
  {
   "cell_type": "code",
   "execution_count": 103,
   "metadata": {},
   "outputs": [
    {
     "name": "stderr",
     "output_type": "stream",
     "text": [
      "/root/anaconda3/lib/python3.7/site-packages/ipykernel_launcher.py:13: UserWarning: Matplotlib is currently using agg, which is a non-GUI backend, so cannot show the figure.\n",
      "  del sys.path[0]\n"
     ]
    },
    {
     "data": {
      "image/png": "[encoded data removed]",
      "text/plain": [
       "<Figure size 864x864 with 2 Axes>"
      ]
     },
     "metadata": {
      "needs_background": "light"
     },
     "output_type": "display_data"
    }
   ],
   "source": [
    "\n",
    "fig, (ax1, ax2) = plt.subplots(2, 1, figsize=(12, 12))\n",
    "ax1.plot(history.history['loss'], color='b', label=\"Training loss\")\n",
    "ax1.plot(history.history['val_loss'], color='r', label=\"validation loss\")\n",
    "ax1.set_xticks(np.arange(1, epochs, 1))\n",
    "ax1.set_yticks(np.arange(0, 1, 0.1))\n",
    "\n",
    "ax2.plot(history.history['acc'], color='b', label=\"Training accuracy\")\n",
    "ax2.plot(history.history['val_acc'], color='r',label=\"Validation accuracy\")\n",
    "ax2.set_xticks(np.arange(1, epochs, 1))\n",
    "\n",
    "legend = plt.legend(loc='best', shadow=True)\n",
    "plt.tight_layout()\n",
    "plt.show()"
   ]
  },
  {
   "cell_type": "markdown",
   "metadata": {},
   "source": [
    "### transfer learning vgg16"
   ]
  },
  {
   "cell_type": "markdown",
   "metadata": {},
   "source": [
    "prepare the X_train, Y_train"
   ]
  },
  {
   "cell_type": "code",
   "execution_count": 132,
   "metadata": {},
   "outputs": [],
   "source": [
    "import os,sys\n",
    "import numpy as np\n",
    "import scipy\n",
    "from scipy import ndimage\n",
    "import tensorflow as tf\n",
    "import matplotlib.pyplot as plt\n",
    "from tensorflow.keras.applications.resnet50 import ResNet50\n",
    "from tensorflow.keras.preprocessing import image\n",
    "from tensorflow.keras.applications.resnet50 import preprocess_input, decode_predictions\n",
    "from PIL import Image\n",
    "import random"
   ]
  },
  {
   "cell_type": "code",
   "execution_count": 117,
   "metadata": {},
   "outputs": [],
   "source": [
    "imglist=train_df['image_id'].tolist()"
   ]
  },
  {
   "cell_type": "code",
   "execution_count": 126,
   "metadata": {},
   "outputs": [],
   "source": [
    "imglist_test = validate_df['image_id'].tolist()"
   ]
  },
  {
   "cell_type": "code",
   "execution_count": 127,
   "metadata": {},
   "outputs": [
    {
     "data": {
      "text/plain": [
       "list"
      ]
     },
     "execution_count": 127,
     "metadata": {},
     "output_type": "execute_result"
    }
   ],
   "source": [
    "type(imglist)"
   ]
  },
  {
   "cell_type": "code",
   "execution_count": 128,
   "metadata": {},
   "outputs": [
    {
     "data": {
      "text/plain": [
       "list"
      ]
     },
     "execution_count": 128,
     "metadata": {},
     "output_type": "execute_result"
    }
   ],
   "source": [
    "type(imglist_test)"
   ]
  },
  {
   "cell_type": "code",
   "execution_count": 120,
   "metadata": {},
   "outputs": [],
   "source": [
    "X_train = np.empty((len(imglist),128,128,3))"
   ]
  },
  {
   "cell_type": "code",
   "execution_count": 122,
   "metadata": {},
   "outputs": [],
   "source": [
    "Y_train = np.empty((len(imglist),2))"
   ]
  },
  {
   "cell_type": "code",
   "execution_count": 123,
   "metadata": {},
   "outputs": [
    {
     "data": {
      "text/plain": [
       "(1820, 128, 128, 3)"
      ]
     },
     "execution_count": 123,
     "metadata": {},
     "output_type": "execute_result"
    }
   ],
   "source": [
    "X_train.shape"
   ]
  },
  {
   "cell_type": "code",
   "execution_count": 125,
   "metadata": {},
   "outputs": [
    {
     "data": {
      "text/plain": [
       "(1820, 2)"
      ]
     },
     "execution_count": 125,
     "metadata": {},
     "output_type": "execute_result"
    }
   ],
   "source": [
    "Y_train.shape"
   ]
  },
  {
   "cell_type": "code",
   "execution_count": 129,
   "metadata": {},
   "outputs": [],
   "source": [
    "path = '/root/data/'"
   ]
  },
  {
   "cell_type": "code",
   "execution_count": 136,
   "metadata": {},
   "outputs": [],
   "source": [
    "count=0\n",
    "nonelist=[]\n",
    "for img_name in imglist:\n",
    "    img_path = path + img_name\n",
    "    try:\n",
    "        img = image.load_img(img_path, target_size=(128,128))\n",
    "        img = image.img_to_array(img)/255.0\n",
    "        X_train[count]=img\n",
    "        Y_train[count]=np.array((1,0))\n",
    "        count+=1\n",
    "    except:\n",
    "        nonelist.append(img_path)"
   ]
  },
  {
   "cell_type": "code",
   "execution_count": 138,
   "metadata": {},
   "outputs": [
    {
     "data": {
      "text/plain": [
       "array([[1., 0.],\n",
       "       [1., 0.]])"
      ]
     },
     "execution_count": 138,
     "metadata": {},
     "output_type": "execute_result"
    }
   ],
   "source": [
    "Y_train[:2]"
   ]
  },
  {
   "cell_type": "code",
   "execution_count": 140,
   "metadata": {},
   "outputs": [
    {
     "data": {
      "text/plain": [
       "array([[[[0.21176471, 0.47058824, 0.80784315],\n",
       "         [0.16862746, 0.4627451 , 0.78039217],\n",
       "         [0.19215687, 0.48627451, 0.80392158],\n",
       "         ...,\n",
       "         [0.32549021, 0.56470591, 0.9137255 ],\n",
       "         [0.31764707, 0.57254905, 0.90196079],\n",
       "         [0.32549021, 0.58431375, 0.92156863]],\n",
       "\n",
       "        [[0.19215687, 0.49803922, 0.79215688],\n",
       "         [0.20392157, 0.45490196, 0.80000001],\n",
       "         [0.22352941, 0.48235294, 0.81176472],\n",
       "         ...,\n",
       "         [0.29019609, 0.5529412 , 0.90196079],\n",
       "         [0.30588236, 0.58039218, 0.9137255 ],\n",
       "         [0.29411766, 0.60392159, 0.9137255 ]],\n",
       "\n",
       "        [[0.2       , 0.47058824, 0.77254903],\n",
       "         [0.21568628, 0.48627451, 0.78823531],\n",
       "         [0.2       , 0.48627451, 0.79607844],\n",
       "         ...,\n",
       "         [0.33725491, 0.57647061, 0.90196079],\n",
       "         [0.3137255 , 0.55686277, 0.89803922],\n",
       "         [0.30980393, 0.56862748, 0.90980393]],\n",
       "\n",
       "        ...,\n",
       "\n",
       "        [[0.86274511, 0.86274511, 0.86274511],\n",
       "         [0.86274511, 0.86274511, 0.86274511],\n",
       "         [0.89019608, 0.89019608, 0.89019608],\n",
       "         ...,\n",
       "         [0.86274511, 0.86274511, 0.86274511],\n",
       "         [0.8509804 , 0.8509804 , 0.8509804 ],\n",
       "         [0.86274511, 0.86274511, 0.87058824]],\n",
       "\n",
       "        [[0.86274511, 0.86274511, 0.86274511],\n",
       "         [0.86666667, 0.86666667, 0.86666667],\n",
       "         [0.84313726, 0.84313726, 0.84313726],\n",
       "         ...,\n",
       "         [0.03529412, 0.03529412, 0.03529412],\n",
       "         [0.01568628, 0.01568628, 0.01568628],\n",
       "         [0.86274511, 0.86274511, 0.86274511]],\n",
       "\n",
       "        [[0.85882354, 0.85882354, 0.85882354],\n",
       "         [0.86274511, 0.86274511, 0.87058824],\n",
       "         [0.86666667, 0.86666667, 0.86666667],\n",
       "         ...,\n",
       "         [0.85882354, 0.85882354, 0.85882354],\n",
       "         [0.86274511, 0.86274511, 0.86274511],\n",
       "         [0.86666667, 0.86274511, 0.85490197]]],\n",
       "\n",
       "\n",
       "       [[[0.15294118, 0.38431373, 0.55686277],\n",
       "         [0.22745098, 0.41568628, 0.60784316],\n",
       "         [0.18431373, 0.38039216, 0.58039218],\n",
       "         ...,\n",
       "         [0.48627451, 0.65882355, 0.77254903],\n",
       "         [0.47843137, 0.65098041, 0.7647059 ],\n",
       "         [0.44705883, 0.65490198, 0.78039217]],\n",
       "\n",
       "        [[0.18431373, 0.39607844, 0.57647061],\n",
       "         [0.17254902, 0.39607844, 0.56470591],\n",
       "         [0.21568628, 0.39607844, 0.59215689],\n",
       "         ...,\n",
       "         [0.49019608, 0.65098041, 0.76078433],\n",
       "         [0.45490196, 0.65490198, 0.76078433],\n",
       "         [0.49411765, 0.66666669, 0.78039217]],\n",
       "\n",
       "        [[0.1882353 , 0.40000001, 0.58431375],\n",
       "         [0.18431373, 0.40392157, 0.60392159],\n",
       "         [0.17254902, 0.40784314, 0.60392159],\n",
       "         ...,\n",
       "         [0.53333336, 0.68627453, 0.80000001],\n",
       "         [0.48627451, 0.66666669, 0.76862746],\n",
       "         [0.49019608, 0.66666669, 0.79607844]],\n",
       "\n",
       "        ...,\n",
       "\n",
       "        [[0.86274511, 0.86274511, 0.86274511],\n",
       "         [0.87843138, 0.87843138, 0.87843138],\n",
       "         [0.86274511, 0.86274511, 0.86274511],\n",
       "         ...,\n",
       "         [0.86274511, 0.86274511, 0.86274511],\n",
       "         [0.06666667, 0.06666667, 0.06666667],\n",
       "         [0.86274511, 0.86274511, 0.86274511]],\n",
       "\n",
       "        [[0.86274511, 0.86274511, 0.86274511],\n",
       "         [0.87450981, 0.87450981, 0.87450981],\n",
       "         [0.03529412, 0.03529412, 0.03529412],\n",
       "         ...,\n",
       "         [0.05098039, 0.05098039, 0.05098039],\n",
       "         [0.86274511, 0.86274511, 0.86274511],\n",
       "         [0.86274511, 0.86274511, 0.86274511]],\n",
       "\n",
       "        [[0.85882354, 0.85882354, 0.85882354],\n",
       "         [0.85882354, 0.8509804 , 0.85490197],\n",
       "         [0.85882354, 0.85882354, 0.85882354],\n",
       "         ...,\n",
       "         [0.85882354, 0.8509804 , 0.85490197],\n",
       "         [0.85882354, 0.8509804 , 0.85490197],\n",
       "         [0.85882354, 0.8509804 , 0.85490197]]]])"
      ]
     },
     "execution_count": 140,
     "metadata": {},
     "output_type": "execute_result"
    }
   ],
   "source": [
    "X_train[:2]"
   ]
  },
  {
   "cell_type": "code",
   "execution_count": null,
   "metadata": {},
   "outputs": [],
   "source": []
  },
  {
   "cell_type": "code",
   "execution_count": null,
   "metadata": {},
   "outputs": [],
   "source": []
  },
  {
   "cell_type": "code",
   "execution_count": null,
   "metadata": {},
   "outputs": [],
   "source": []
  },
  {
   "cell_type": "code",
   "execution_count": null,
   "metadata": {},
   "outputs": [],
   "source": []
  },
  {
   "cell_type": "code",
   "execution_count": null,
   "metadata": {},
   "outputs": [],
   "source": []
  },
  {
   "cell_type": "code",
   "execution_count": null,
   "metadata": {},
   "outputs": [],
   "source": []
  },
  {
   "cell_type": "code",
   "execution_count": null,
   "metadata": {},
   "outputs": [],
   "source": []
  },
  {
   "cell_type": "code",
   "execution_count": null,
   "metadata": {},
   "outputs": [],
   "source": []
  }
 ],
 "metadata": {
  "kernelspec": {
   "display_name": "Python 3",
   "language": "python",
   "name": "python3"
  },
  "language_info": {
   "codemirror_mode": {
    "name": "ipython",
    "version": 3
   },
   "file_extension": ".py",
   "mimetype": "text/x-python",
   "name": "python",
   "nbconvert_exporter": "python",
   "pygments_lexer": "ipython3",
   "version": "3.7.4"
  }
 },
 "nbformat": 4,
 "nbformat_minor": 4
}
