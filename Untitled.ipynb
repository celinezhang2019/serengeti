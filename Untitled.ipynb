{
 "cells": [
  {
   "cell_type": "code",
   "execution_count": 1,
   "metadata": {},
   "outputs": [
    {
     "name": "stderr",
     "output_type": "stream",
     "text": [
      "Using TensorFlow backend.\n"
     ]
    }
   ],
   "source": [
    "#  Data prepare: 15 classes each one about 1000 images for quick check \n",
    "# VGG data prepare\n",
    "\n",
    "import pandas as pd\n",
    "import numpy as np\n",
    "import csv\n",
    "import json\n",
    "import random\n",
    "import matplotlib.pyplot as plt\n",
    "import os,sys\n",
    "import numpy as np\n",
    "import scipy\n",
    "from scipy import ndimage\n",
    "import tensorflow as tf\n",
    "import matplotlib.pyplot as plt\n",
    "from tensorflow.keras.applications.resnet50 import ResNet50\n",
    "from tensorflow.keras.preprocessing import image\n",
    "from tensorflow.keras.applications.resnet50 import preprocess_input, decode_predictions\n",
    "from PIL import Image\n",
    "import random\n",
    "import numpy as np\n",
    "import pandas as pd\n",
    "from keras.preprocessing.image import ImageDataGenerator, load_img\n",
    "from keras.utils import to_categorical\n",
    "from sklearn.model_selection import train_test_split\n",
    "import matplotlib.pyplot as plt\n",
    "import os,sys\n",
    "import numpy as np\n",
    "import scipy\n",
    "from scipy import ndimage\n",
    "import tensorflow as tf\n",
    "import matplotlib.pyplot as plt\n",
    "from tensorflow.keras.applications.resnet50 import ResNet50\n",
    "from tensorflow.keras.preprocessing import image\n",
    "from tensorflow.keras.applications.resnet50 import preprocess_input, decode_predictions\n",
    "from PIL import Image\n",
    "import random\n",
    "import numpy as np\n",
    "import pandas as pd\n",
    "from keras.preprocessing.image import ImageDataGenerator, load_img\n",
    "from keras.utils import to_categorical\n",
    "from sklearn.model_selection import train_test_split\n",
    "import matplotlib.pyplot as plt"
   ]
  },
  {
   "cell_type": "code",
   "execution_count": 2,
   "metadata": {},
   "outputs": [],
   "source": [
    "train_file = '/home/zxt/code/S10.json'\n",
    "with open(train_file) as data_file:\n",
    "    train_anns=json.load(data_file)"
   ]
  },
  {
   "cell_type": "markdown",
   "metadata": {},
   "source": [
    "get all the images names in picked_data folder"
   ]
  },
  {
   "cell_type": "code",
   "execution_count": 3,
   "metadata": {},
   "outputs": [
    {
     "data": {
      "text/plain": [
       "13950"
      ]
     },
     "execution_count": 3,
     "metadata": {},
     "output_type": "execute_result"
    }
   ],
   "source": [
    "import os\n",
    "import os.path\n",
    "rootdir = \"/home/zxt/data/picked_data\"\n",
    "img_list = []\n",
    "for parent, dirnames, filenames in os.walk(rootdir):\n",
    "    for filename in filenames:\n",
    "        img_list.append(filename)\n",
    "len(img_list)"
   ]
  },
  {
   "cell_type": "code",
   "execution_count": 4,
   "metadata": {},
   "outputs": [
    {
     "data": {
      "text/plain": [
       "['S10_J09_R1_IMAG0196.JPG', 'S10_O11_R1_IMAG0126.JPG']"
      ]
     },
     "execution_count": 4,
     "metadata": {},
     "output_type": "execute_result"
    }
   ],
   "source": [
    "img_list[:2]"
   ]
  },
  {
   "cell_type": "code",
   "execution_count": 5,
   "metadata": {},
   "outputs": [
    {
     "name": "stdout",
     "output_type": "stream",
     "text": [
      "S10_B03_R1_IMAG0001.JPG\n",
      "S10_B03_R1_IMAG0002.JPG\n",
      "S10_B03_R1_IMAG0003.JPG\n",
      "S10_B03_R1_IMAG0004.JPG\n",
      "S10_B03_R1_IMAG0005.JPG\n"
     ]
    }
   ],
   "source": [
    "num = 0 \n",
    "for i in train_anns['annotations']:\n",
    "    if num <5:\n",
    "        i_new =  i['image_id'] +'.JPG'\n",
    "        i_new = i_new[15:]\n",
    "        print(i_new)\n",
    "        num +=1"
   ]
  },
  {
   "cell_type": "code",
   "execution_count": 6,
   "metadata": {},
   "outputs": [],
   "source": [
    "label_dict = {}\n",
    "for i in train_anns['annotations']:\n",
    "    i_new = i['image_id'] + '.JPG'\n",
    "    i_new = i_new[15:]\n",
    "    if i_new in img_list:\n",
    "        label_dict[i_new]=i['category_id']\n",
    "        "
   ]
  },
  {
   "cell_type": "code",
   "execution_count": 7,
   "metadata": {},
   "outputs": [
    {
     "name": "stdout",
     "output_type": "stream",
     "text": [
      "                  image_id  label\n",
      "0  S10_B03_R1_IMAG0108.JPG     11\n",
      "1  S10_B03_R1_IMAG0110.JPG     11\n",
      "2  S10_B03_R1_IMAG0111.JPG     11\n",
      "3  S10_B03_R1_IMAG0115.JPG     11\n",
      "4  S10_B03_R1_IMAG0188.JPG     15\n"
     ]
    }
   ],
   "source": [
    "df = pd.DataFrame.from_dict(label_dict,orient='index',columns=['label'])\n",
    "df = df.reset_index().rename(columns={'index':'image_id'})\n",
    "print(df.head())"
   ]
  },
  {
   "cell_type": "code",
   "execution_count": 8,
   "metadata": {},
   "outputs": [
    {
     "data": {
      "image/png": "[encoded data removed]",
      "text/plain": [
       "<Figure size 432x288 with 1 Axes>"
      ]
     },
     "metadata": {
      "needs_background": "light"
     },
     "output_type": "display_data"
    }
   ],
   "source": [
    "df['label'].value_counts().plot.bar()\n",
    "plt.show()"
   ]
  },
  {
   "cell_type": "code",
   "execution_count": 9,
   "metadata": {},
   "outputs": [
    {
     "data": {
      "text/plain": [
       "array([11, 15,  0,  5, 18, 21,  9, 13, 10,  4, 17, 16, 23,  2,  7, 49, 22,\n",
       "       39, 33, 14, 37])"
      ]
     },
     "execution_count": 9,
     "metadata": {},
     "output_type": "execute_result"
    }
   ],
   "source": [
    "df.label.unique()"
   ]
  },
  {
   "cell_type": "code",
   "execution_count": 10,
   "metadata": {},
   "outputs": [],
   "source": [
    "df.loc[df.label == 39, 'label']=21"
   ]
  },
  {
   "cell_type": "markdown",
   "metadata": {},
   "source": [
    "delete the uneccesary lables:"
   ]
  },
  {
   "cell_type": "code",
   "execution_count": 11,
   "metadata": {},
   "outputs": [],
   "source": [
    "need_label = [18,5,7,15,11,10,9,13,0,16,17,2,21,4]"
   ]
  },
  {
   "cell_type": "code",
   "execution_count": 12,
   "metadata": {},
   "outputs": [
    {
     "data": {
      "text/plain": [
       "13950"
      ]
     },
     "execution_count": 12,
     "metadata": {},
     "output_type": "execute_result"
    }
   ],
   "source": [
    "len(df)"
   ]
  },
  {
   "cell_type": "code",
   "execution_count": 13,
   "metadata": {},
   "outputs": [],
   "source": [
    "df1 = df[df.label.isin(need_label)]"
   ]
  },
  {
   "cell_type": "code",
   "execution_count": 14,
   "metadata": {},
   "outputs": [
    {
     "data": {
      "text/plain": [
       "13871"
      ]
     },
     "execution_count": 14,
     "metadata": {},
     "output_type": "execute_result"
    }
   ],
   "source": [
    "len(df1)"
   ]
  },
  {
   "cell_type": "code",
   "execution_count": 15,
   "metadata": {},
   "outputs": [
    {
     "data": {
      "text/html": [
       "<div>\n",
       "<style scoped>\n",
       "    .dataframe tbody tr th:only-of-type {\n",
       "        vertical-align: middle;\n",
       "    }\n",
       "\n",
       "    .dataframe tbody tr th {\n",
       "        vertical-align: top;\n",
       "    }\n",
       "\n",
       "    .dataframe thead th {\n",
       "        text-align: right;\n",
       "    }\n",
       "</style>\n",
       "<table border=\"1\" class=\"dataframe\">\n",
       "  <thead>\n",
       "    <tr style=\"text-align: right;\">\n",
       "      <th></th>\n",
       "      <th>image_id</th>\n",
       "      <th>label</th>\n",
       "    </tr>\n",
       "  </thead>\n",
       "  <tbody>\n",
       "    <tr>\n",
       "      <th>0</th>\n",
       "      <td>S10_B03_R1_IMAG0108.JPG</td>\n",
       "      <td>11</td>\n",
       "    </tr>\n",
       "    <tr>\n",
       "      <th>1</th>\n",
       "      <td>S10_B03_R1_IMAG0110.JPG</td>\n",
       "      <td>11</td>\n",
       "    </tr>\n",
       "    <tr>\n",
       "      <th>2</th>\n",
       "      <td>S10_B03_R1_IMAG0111.JPG</td>\n",
       "      <td>11</td>\n",
       "    </tr>\n",
       "    <tr>\n",
       "      <th>3</th>\n",
       "      <td>S10_B03_R1_IMAG0115.JPG</td>\n",
       "      <td>11</td>\n",
       "    </tr>\n",
       "    <tr>\n",
       "      <th>4</th>\n",
       "      <td>S10_B03_R1_IMAG0188.JPG</td>\n",
       "      <td>15</td>\n",
       "    </tr>\n",
       "  </tbody>\n",
       "</table>\n",
       "</div>"
      ],
      "text/plain": [
       "                  image_id  label\n",
       "0  S10_B03_R1_IMAG0108.JPG     11\n",
       "1  S10_B03_R1_IMAG0110.JPG     11\n",
       "2  S10_B03_R1_IMAG0111.JPG     11\n",
       "3  S10_B03_R1_IMAG0115.JPG     11\n",
       "4  S10_B03_R1_IMAG0188.JPG     15"
      ]
     },
     "execution_count": 15,
     "metadata": {},
     "output_type": "execute_result"
    }
   ],
   "source": [
    "df.head()"
   ]
  },
  {
   "cell_type": "code",
   "execution_count": 16,
   "metadata": {},
   "outputs": [
    {
     "data": {
      "text/plain": [
       "13871"
      ]
     },
     "execution_count": 16,
     "metadata": {},
     "output_type": "execute_result"
    }
   ],
   "source": [
    "len(df1)"
   ]
  },
  {
   "cell_type": "code",
   "execution_count": 17,
   "metadata": {},
   "outputs": [
    {
     "data": {
      "text/html": [
       "<div>\n",
       "<style scoped>\n",
       "    .dataframe tbody tr th:only-of-type {\n",
       "        vertical-align: middle;\n",
       "    }\n",
       "\n",
       "    .dataframe tbody tr th {\n",
       "        vertical-align: top;\n",
       "    }\n",
       "\n",
       "    .dataframe thead th {\n",
       "        text-align: right;\n",
       "    }\n",
       "</style>\n",
       "<table border=\"1\" class=\"dataframe\">\n",
       "  <thead>\n",
       "    <tr style=\"text-align: right;\">\n",
       "      <th></th>\n",
       "      <th>image_id</th>\n",
       "      <th>label</th>\n",
       "    </tr>\n",
       "  </thead>\n",
       "  <tbody>\n",
       "    <tr>\n",
       "      <th>0</th>\n",
       "      <td>S10_B03_R1_IMAG0108.JPG</td>\n",
       "      <td>11</td>\n",
       "    </tr>\n",
       "    <tr>\n",
       "      <th>1</th>\n",
       "      <td>S10_B03_R1_IMAG0110.JPG</td>\n",
       "      <td>11</td>\n",
       "    </tr>\n",
       "    <tr>\n",
       "      <th>2</th>\n",
       "      <td>S10_B03_R1_IMAG0111.JPG</td>\n",
       "      <td>11</td>\n",
       "    </tr>\n",
       "    <tr>\n",
       "      <th>3</th>\n",
       "      <td>S10_B03_R1_IMAG0115.JPG</td>\n",
       "      <td>11</td>\n",
       "    </tr>\n",
       "    <tr>\n",
       "      <th>4</th>\n",
       "      <td>S10_B03_R1_IMAG0188.JPG</td>\n",
       "      <td>15</td>\n",
       "    </tr>\n",
       "  </tbody>\n",
       "</table>\n",
       "</div>"
      ],
      "text/plain": [
       "                  image_id  label\n",
       "0  S10_B03_R1_IMAG0108.JPG     11\n",
       "1  S10_B03_R1_IMAG0110.JPG     11\n",
       "2  S10_B03_R1_IMAG0111.JPG     11\n",
       "3  S10_B03_R1_IMAG0115.JPG     11\n",
       "4  S10_B03_R1_IMAG0188.JPG     15"
      ]
     },
     "execution_count": 17,
     "metadata": {},
     "output_type": "execute_result"
    }
   ],
   "source": [
    "df1.head()"
   ]
  },
  {
   "cell_type": "code",
   "execution_count": 19,
   "metadata": {},
   "outputs": [
    {
     "name": "stderr",
     "output_type": "stream",
     "text": [
      "/home/zxt/anaconda3/lib/python3.7/site-packages/pandas/core/indexing.py:494: SettingWithCopyWarning: \n",
      "A value is trying to be set on a copy of a slice from a DataFrame.\n",
      "Try using .loc[row_indexer,col_indexer] = value instead\n",
      "\n",
      "See the caveats in the documentation: http://pandas.pydata.org/pandas-docs/stable/user_guide/indexing.html#returning-a-view-versus-a-copy\n",
      "  self.obj[item] = s\n",
      "/home/zxt/anaconda3/lib/python3.7/site-packages/pandas/core/indexing.py:205: SettingWithCopyWarning: \n",
      "A value is trying to be set on a copy of a slice from a DataFrame\n",
      "\n",
      "See the caveats in the documentation: http://pandas.pydata.org/pandas-docs/stable/user_guide/indexing.html#returning-a-view-versus-a-copy\n",
      "  self._setitem_with_indexer(indexer, value)\n",
      "/home/zxt/anaconda3/lib/python3.7/site-packages/ipykernel_launcher.py:2: SettingWithCopyWarning: \n",
      "A value is trying to be set on a copy of a slice from a DataFrame\n",
      "\n",
      "See the caveats in the documentation: http://pandas.pydata.org/pandas-docs/stable/user_guide/indexing.html#returning-a-view-versus-a-copy\n",
      "  \n",
      "/home/zxt/anaconda3/lib/python3.7/site-packages/ipykernel_launcher.py:3: SettingWithCopyWarning: \n",
      "A value is trying to be set on a copy of a slice from a DataFrame\n",
      "\n",
      "See the caveats in the documentation: http://pandas.pydata.org/pandas-docs/stable/user_guide/indexing.html#returning-a-view-versus-a-copy\n",
      "  This is separate from the ipykernel package so we can avoid doing imports until\n",
      "/home/zxt/anaconda3/lib/python3.7/site-packages/ipykernel_launcher.py:4: SettingWithCopyWarning: \n",
      "A value is trying to be set on a copy of a slice from a DataFrame\n",
      "\n",
      "See the caveats in the documentation: http://pandas.pydata.org/pandas-docs/stable/user_guide/indexing.html#returning-a-view-versus-a-copy\n",
      "  after removing the cwd from sys.path.\n",
      "/home/zxt/anaconda3/lib/python3.7/site-packages/ipykernel_launcher.py:5: SettingWithCopyWarning: \n",
      "A value is trying to be set on a copy of a slice from a DataFrame\n",
      "\n",
      "See the caveats in the documentation: http://pandas.pydata.org/pandas-docs/stable/user_guide/indexing.html#returning-a-view-versus-a-copy\n",
      "  \"\"\"\n",
      "/home/zxt/anaconda3/lib/python3.7/site-packages/ipykernel_launcher.py:6: SettingWithCopyWarning: \n",
      "A value is trying to be set on a copy of a slice from a DataFrame\n",
      "\n",
      "See the caveats in the documentation: http://pandas.pydata.org/pandas-docs/stable/user_guide/indexing.html#returning-a-view-versus-a-copy\n",
      "  \n",
      "/home/zxt/anaconda3/lib/python3.7/site-packages/ipykernel_launcher.py:7: SettingWithCopyWarning: \n",
      "A value is trying to be set on a copy of a slice from a DataFrame\n",
      "\n",
      "See the caveats in the documentation: http://pandas.pydata.org/pandas-docs/stable/user_guide/indexing.html#returning-a-view-versus-a-copy\n",
      "  import sys\n",
      "/home/zxt/anaconda3/lib/python3.7/site-packages/ipykernel_launcher.py:8: SettingWithCopyWarning: \n",
      "A value is trying to be set on a copy of a slice from a DataFrame\n",
      "\n",
      "See the caveats in the documentation: http://pandas.pydata.org/pandas-docs/stable/user_guide/indexing.html#returning-a-view-versus-a-copy\n",
      "  \n",
      "/home/zxt/anaconda3/lib/python3.7/site-packages/ipykernel_launcher.py:9: SettingWithCopyWarning: \n",
      "A value is trying to be set on a copy of a slice from a DataFrame\n",
      "\n",
      "See the caveats in the documentation: http://pandas.pydata.org/pandas-docs/stable/user_guide/indexing.html#returning-a-view-versus-a-copy\n",
      "  if __name__ == '__main__':\n",
      "/home/zxt/anaconda3/lib/python3.7/site-packages/ipykernel_launcher.py:10: SettingWithCopyWarning: \n",
      "A value is trying to be set on a copy of a slice from a DataFrame\n",
      "\n",
      "See the caveats in the documentation: http://pandas.pydata.org/pandas-docs/stable/user_guide/indexing.html#returning-a-view-versus-a-copy\n",
      "  # Remove the CWD from sys.path while we load stuff.\n",
      "/home/zxt/anaconda3/lib/python3.7/site-packages/ipykernel_launcher.py:11: SettingWithCopyWarning: \n",
      "A value is trying to be set on a copy of a slice from a DataFrame\n",
      "\n",
      "See the caveats in the documentation: http://pandas.pydata.org/pandas-docs/stable/user_guide/indexing.html#returning-a-view-versus-a-copy\n",
      "  # This is added back by InteractiveShellApp.init_path()\n",
      "/home/zxt/anaconda3/lib/python3.7/site-packages/ipykernel_launcher.py:12: SettingWithCopyWarning: \n",
      "A value is trying to be set on a copy of a slice from a DataFrame\n",
      "\n",
      "See the caveats in the documentation: http://pandas.pydata.org/pandas-docs/stable/user_guide/indexing.html#returning-a-view-versus-a-copy\n",
      "  if sys.path[0] == '':\n",
      "/home/zxt/anaconda3/lib/python3.7/site-packages/ipykernel_launcher.py:13: SettingWithCopyWarning: \n",
      "A value is trying to be set on a copy of a slice from a DataFrame\n",
      "\n",
      "See the caveats in the documentation: http://pandas.pydata.org/pandas-docs/stable/user_guide/indexing.html#returning-a-view-versus-a-copy\n",
      "  del sys.path[0]\n",
      "/home/zxt/anaconda3/lib/python3.7/site-packages/ipykernel_launcher.py:14: SettingWithCopyWarning: \n",
      "A value is trying to be set on a copy of a slice from a DataFrame\n",
      "\n",
      "See the caveats in the documentation: http://pandas.pydata.org/pandas-docs/stable/user_guide/indexing.html#returning-a-view-versus-a-copy\n",
      "  \n"
     ]
    }
   ],
   "source": [
    "df1.loc[df1.label == 18, 'label']='0'\n",
    "df1.loc[df1.label == 5, 'label']='1'\n",
    "df1.loc[df1.label == 7, 'label']='2'\n",
    "df1.loc[df1.label == 15, 'label']='3'\n",
    "df1.loc[df1.label == 11, 'label']='4'\n",
    "df1.loc[df1.label == 10, 'label']='5'\n",
    "df1.loc[df1.label == 9, 'label']='6'\n",
    "df1.loc[df1.label == 13, 'label']='7'\n",
    "df1.loc[df1.label == 0, 'label']='8'\n",
    "df1.loc[df1.label == 16, 'label']='9'\n",
    "df1.loc[df1.label == 17, 'label']='10'\n",
    "df1.loc[df1.label == 2, 'label']='11'\n",
    "df1.loc[df1.label == 21, 'label']='12'\n",
    "df1.loc[df1.label == 4, 'label']='13'"
   ]
  },
  {
   "cell_type": "code",
   "execution_count": 20,
   "metadata": {},
   "outputs": [
    {
     "data": {
      "text/html": [
       "<div>\n",
       "<style scoped>\n",
       "    .dataframe tbody tr th:only-of-type {\n",
       "        vertical-align: middle;\n",
       "    }\n",
       "\n",
       "    .dataframe tbody tr th {\n",
       "        vertical-align: top;\n",
       "    }\n",
       "\n",
       "    .dataframe thead th {\n",
       "        text-align: right;\n",
       "    }\n",
       "</style>\n",
       "<table border=\"1\" class=\"dataframe\">\n",
       "  <thead>\n",
       "    <tr style=\"text-align: right;\">\n",
       "      <th></th>\n",
       "      <th>image_id</th>\n",
       "      <th>label</th>\n",
       "    </tr>\n",
       "  </thead>\n",
       "  <tbody>\n",
       "    <tr>\n",
       "      <th>0</th>\n",
       "      <td>S10_B03_R1_IMAG0108.JPG</td>\n",
       "      <td>4</td>\n",
       "    </tr>\n",
       "    <tr>\n",
       "      <th>1</th>\n",
       "      <td>S10_B03_R1_IMAG0110.JPG</td>\n",
       "      <td>4</td>\n",
       "    </tr>\n",
       "    <tr>\n",
       "      <th>2</th>\n",
       "      <td>S10_B03_R1_IMAG0111.JPG</td>\n",
       "      <td>4</td>\n",
       "    </tr>\n",
       "    <tr>\n",
       "      <th>3</th>\n",
       "      <td>S10_B03_R1_IMAG0115.JPG</td>\n",
       "      <td>4</td>\n",
       "    </tr>\n",
       "    <tr>\n",
       "      <th>4</th>\n",
       "      <td>S10_B03_R1_IMAG0188.JPG</td>\n",
       "      <td>3</td>\n",
       "    </tr>\n",
       "  </tbody>\n",
       "</table>\n",
       "</div>"
      ],
      "text/plain": [
       "                  image_id label\n",
       "0  S10_B03_R1_IMAG0108.JPG     4\n",
       "1  S10_B03_R1_IMAG0110.JPG     4\n",
       "2  S10_B03_R1_IMAG0111.JPG     4\n",
       "3  S10_B03_R1_IMAG0115.JPG     4\n",
       "4  S10_B03_R1_IMAG0188.JPG     3"
      ]
     },
     "execution_count": 20,
     "metadata": {},
     "output_type": "execute_result"
    }
   ],
   "source": [
    "df1.head()"
   ]
  },
  {
   "cell_type": "code",
   "execution_count": 37,
   "metadata": {},
   "outputs": [
    {
     "data": {
      "text/html": [
       "<div>\n",
       "<style scoped>\n",
       "    .dataframe tbody tr th:only-of-type {\n",
       "        vertical-align: middle;\n",
       "    }\n",
       "\n",
       "    .dataframe tbody tr th {\n",
       "        vertical-align: top;\n",
       "    }\n",
       "\n",
       "    .dataframe thead th {\n",
       "        text-align: right;\n",
       "    }\n",
       "</style>\n",
       "<table border=\"1\" class=\"dataframe\">\n",
       "  <thead>\n",
       "    <tr style=\"text-align: right;\">\n",
       "      <th></th>\n",
       "      <th>image_id</th>\n",
       "      <th>label</th>\n",
       "    </tr>\n",
       "  </thead>\n",
       "  <tbody>\n",
       "    <tr>\n",
       "      <th>0</th>\n",
       "      <td>S10_B03_R1_IMAG0108.JPG</td>\n",
       "      <td>11</td>\n",
       "    </tr>\n",
       "    <tr>\n",
       "      <th>1</th>\n",
       "      <td>S10_B03_R1_IMAG0110.JPG</td>\n",
       "      <td>11</td>\n",
       "    </tr>\n",
       "    <tr>\n",
       "      <th>2</th>\n",
       "      <td>S10_B03_R1_IMAG0111.JPG</td>\n",
       "      <td>11</td>\n",
       "    </tr>\n",
       "    <tr>\n",
       "      <th>3</th>\n",
       "      <td>S10_B03_R1_IMAG0115.JPG</td>\n",
       "      <td>11</td>\n",
       "    </tr>\n",
       "    <tr>\n",
       "      <th>4</th>\n",
       "      <td>S10_B03_R1_IMAG0188.JPG</td>\n",
       "      <td>15</td>\n",
       "    </tr>\n",
       "  </tbody>\n",
       "</table>\n",
       "</div>"
      ],
      "text/plain": [
       "                  image_id  label\n",
       "0  S10_B03_R1_IMAG0108.JPG     11\n",
       "1  S10_B03_R1_IMAG0110.JPG     11\n",
       "2  S10_B03_R1_IMAG0111.JPG     11\n",
       "3  S10_B03_R1_IMAG0115.JPG     11\n",
       "4  S10_B03_R1_IMAG0188.JPG     15"
      ]
     },
     "execution_count": 37,
     "metadata": {},
     "output_type": "execute_result"
    }
   ],
   "source": [
    "df.head()"
   ]
  },
  {
   "cell_type": "code",
   "execution_count": 21,
   "metadata": {},
   "outputs": [
    {
     "data": {
      "image/png": "[encoded data removed]",
      "text/plain": [
       "<Figure size 432x288 with 1 Axes>"
      ]
     },
     "metadata": {
      "needs_background": "light"
     },
     "output_type": "display_data"
    }
   ],
   "source": [
    "df1['label'].value_counts().plot.bar()\n",
    "plt.show()"
   ]
  },
  {
   "cell_type": "markdown",
   "metadata": {},
   "source": [
    "split train, validate, test datasets"
   ]
  },
  {
   "cell_type": "code",
   "execution_count": 23,
   "metadata": {},
   "outputs": [],
   "source": [
    "train_df, validate0_df = train_test_split(df1, test_size=0.30, random_state=523)\n",
    "train_df = train_df.reset_index(drop=True)\n",
    "validate0_df = validate0_df.reset_index(drop=True)"
   ]
  },
  {
   "cell_type": "code",
   "execution_count": 24,
   "metadata": {},
   "outputs": [],
   "source": [
    "validate_df, test_df = train_test_split(validate0_df, test_size=0.30, random_state=912)\n",
    "validate_df = validate_df.reset_index(drop=True)\n",
    "test_df = test_df.reset_index(drop=True)"
   ]
  },
  {
   "cell_type": "code",
   "execution_count": 25,
   "metadata": {},
   "outputs": [
    {
     "data": {
      "text/plain": [
       "9709"
      ]
     },
     "execution_count": 25,
     "metadata": {},
     "output_type": "execute_result"
    }
   ],
   "source": [
    "len(train_df)"
   ]
  },
  {
   "cell_type": "code",
   "execution_count": 26,
   "metadata": {},
   "outputs": [
    {
     "data": {
      "text/plain": [
       "2913"
      ]
     },
     "execution_count": 26,
     "metadata": {},
     "output_type": "execute_result"
    }
   ],
   "source": [
    "len(validate_df)"
   ]
  },
  {
   "cell_type": "code",
   "execution_count": 27,
   "metadata": {},
   "outputs": [
    {
     "data": {
      "text/plain": [
       "1249"
      ]
     },
     "execution_count": 27,
     "metadata": {},
     "output_type": "execute_result"
    }
   ],
   "source": [
    "len(test_df)"
   ]
  },
  {
   "cell_type": "code",
   "execution_count": 28,
   "metadata": {},
   "outputs": [
    {
     "data": {
      "image/png": "[encoded data removed]",
      "text/plain": [
       "<Figure size 432x288 with 1 Axes>"
      ]
     },
     "metadata": {
      "needs_background": "light"
     },
     "output_type": "display_data"
    }
   ],
   "source": [
    "train_df['label'].value_counts().plot.bar()\n",
    "plt.show()"
   ]
  },
  {
   "cell_type": "code",
   "execution_count": 29,
   "metadata": {},
   "outputs": [
    {
     "data": {
      "image/png": "[encoded data removed]",
      "text/plain": [
       "<Figure size 432x288 with 1 Axes>"
      ]
     },
     "metadata": {
      "needs_background": "light"
     },
     "output_type": "display_data"
    }
   ],
   "source": [
    "validate_df['label'].value_counts().plot.bar()\n",
    "plt.show()"
   ]
  },
  {
   "cell_type": "code",
   "execution_count": 30,
   "metadata": {},
   "outputs": [
    {
     "data": {
      "image/png": "[encoded data removed]",
      "text/plain": [
       "<Figure size 432x288 with 1 Axes>"
      ]
     },
     "metadata": {
      "needs_background": "light"
     },
     "output_type": "display_data"
    }
   ],
   "source": [
    "test_df['label'].value_counts().plot.bar()\n",
    "plt.show()"
   ]
  },
  {
   "cell_type": "code",
   "execution_count": 56,
   "metadata": {},
   "outputs": [],
   "source": [
    "imglist = train_df['image_id'].tolist()"
   ]
  },
  {
   "cell_type": "code",
   "execution_count": 57,
   "metadata": {},
   "outputs": [],
   "source": [
    "X_train = np.empty((len(imglist),227,227,3))"
   ]
  },
  {
   "cell_type": "code",
   "execution_count": 58,
   "metadata": {},
   "outputs": [],
   "source": [
    "Y_train = np.empty((len(imglist),1))"
   ]
  },
  {
   "cell_type": "code",
   "execution_count": 59,
   "metadata": {},
   "outputs": [
    {
     "data": {
      "text/plain": [
       "(9709, 227, 227, 3)"
      ]
     },
     "execution_count": 59,
     "metadata": {},
     "output_type": "execute_result"
    }
   ],
   "source": [
    "X_train.shape"
   ]
  },
  {
   "cell_type": "code",
   "execution_count": 60,
   "metadata": {},
   "outputs": [
    {
     "data": {
      "text/plain": [
       "(9709, 1)"
      ]
     },
     "execution_count": 60,
     "metadata": {},
     "output_type": "execute_result"
    }
   ],
   "source": [
    "Y_train.shape"
   ]
  },
  {
   "cell_type": "code",
   "execution_count": 61,
   "metadata": {},
   "outputs": [],
   "source": [
    "path = '/home/zxt/data/picked_data/'"
   ]
  },
  {
   "cell_type": "markdown",
   "metadata": {},
   "source": [
    "change to pixel image:"
   ]
  },
  {
   "cell_type": "code",
   "execution_count": 62,
   "metadata": {},
   "outputs": [],
   "source": [
    "count=0\n",
    "nonelist=[]\n",
    "for img_name in imglist:\n",
    "    img_path = path + img_name\n",
    "    try:\n",
    "        img = image.load_img(img_path, target_size=(227,227))\n",
    "        X_train[count]=img\n",
    "        count+=1\n",
    "    except:\n",
    "        nonelist.append(img_path)"
   ]
  },
  {
   "cell_type": "code",
   "execution_count": 65,
   "metadata": {},
   "outputs": [
    {
     "data": {
      "text/plain": [
       "0"
      ]
     },
     "execution_count": 65,
     "metadata": {},
     "output_type": "execute_result"
    }
   ],
   "source": [
    "# check if there is any nonelist:\n",
    "len(nonelist)"
   ]
  },
  {
   "cell_type": "code",
   "execution_count": 66,
   "metadata": {},
   "outputs": [
    {
     "data": {
      "text/plain": [
       "array([[[[254., 249., 253.],\n",
       "         [254., 249., 253.],\n",
       "         [254., 249., 253.],\n",
       "         ...,\n",
       "         [  4.,  18.,   3.],\n",
       "         [  7.,  13.,   1.],\n",
       "         [  7.,  13.,   1.]],\n",
       "\n",
       "        [[254., 249., 253.],\n",
       "         [254., 249., 253.],\n",
       "         [254., 249., 253.],\n",
       "         ...,\n",
       "         [  5.,  17.,   3.],\n",
       "         [  4.,  16.,   2.],\n",
       "         [  5.,  15.,   4.]],\n",
       "\n",
       "        [[254., 249., 253.],\n",
       "         [254., 249., 253.],\n",
       "         [254., 249., 253.],\n",
       "         ...,\n",
       "         [  4.,  16.,   2.],\n",
       "         [  3.,  15.,   1.],\n",
       "         [  3.,  15.,   3.]],\n",
       "\n",
       "        ...,\n",
       "\n",
       "        [[220., 220., 220.],\n",
       "         [220., 220., 220.],\n",
       "         [221., 221., 221.],\n",
       "         ...,\n",
       "         [220., 220., 220.],\n",
       "         [220., 220., 220.],\n",
       "         [225., 220., 226.]],\n",
       "\n",
       "        [[220., 220., 220.],\n",
       "         [220., 220., 220.],\n",
       "         [220., 220., 220.],\n",
       "         ...,\n",
       "         [220., 220., 220.],\n",
       "         [220., 220., 220.],\n",
       "         [223., 221., 226.]],\n",
       "\n",
       "        [[224., 220., 219.],\n",
       "         [220., 218., 221.],\n",
       "         [219., 220., 222.],\n",
       "         ...,\n",
       "         [220., 221., 216.],\n",
       "         [217., 219., 208.],\n",
       "         [214., 209., 215.]]],\n",
       "\n",
       "\n",
       "       [[[128., 153., 220.],\n",
       "         [133., 160., 227.],\n",
       "         [124., 158., 222.],\n",
       "         ...,\n",
       "         [106., 129., 199.],\n",
       "         [103., 132., 202.],\n",
       "         [100., 129., 197.]],\n",
       "\n",
       "        [[128., 156., 221.],\n",
       "         [122., 162., 231.],\n",
       "         [129., 158., 228.],\n",
       "         ...,\n",
       "         [115., 135., 206.],\n",
       "         [ 99., 128., 194.],\n",
       "         [108., 131., 199.]],\n",
       "\n",
       "        [[132., 157., 223.],\n",
       "         [130., 158., 223.],\n",
       "         [129., 160., 225.],\n",
       "         ...,\n",
       "         [107., 136., 204.],\n",
       "         [101., 136., 202.],\n",
       "         [107., 130., 198.]],\n",
       "\n",
       "        ...,\n",
       "\n",
       "        [[220., 220., 220.],\n",
       "         [220., 220., 220.],\n",
       "         [221., 221., 221.],\n",
       "         ...,\n",
       "         [  0.,   0.,   0.],\n",
       "         [220., 220., 220.],\n",
       "         [221., 220., 225.]],\n",
       "\n",
       "        [[220., 220., 220.],\n",
       "         [220., 220., 220.],\n",
       "         [220., 220., 220.],\n",
       "         ...,\n",
       "         [220., 220., 220.],\n",
       "         [220., 220., 220.],\n",
       "         [221., 220., 225.]],\n",
       "\n",
       "        [[223., 224., 218.],\n",
       "         [220., 218., 219.],\n",
       "         [220., 218., 219.],\n",
       "         ...,\n",
       "         [222., 220., 223.],\n",
       "         [217., 217., 219.],\n",
       "         [219., 218., 216.]]]])"
      ]
     },
     "execution_count": 66,
     "metadata": {},
     "output_type": "execute_result"
    }
   ],
   "source": [
    "X_train[:2]"
   ]
  },
  {
   "cell_type": "code",
   "execution_count": 67,
   "metadata": {},
   "outputs": [
    {
     "data": {
      "text/plain": [
       "numpy.ndarray"
      ]
     },
     "execution_count": 67,
     "metadata": {},
     "output_type": "execute_result"
    }
   ],
   "source": [
    "type(Y_train)"
   ]
  },
  {
   "cell_type": "code",
   "execution_count": 68,
   "metadata": {},
   "outputs": [],
   "source": [
    "d=np.array(Y_train)\n",
    "Y_train=d.reshape(len(Y_train),1)\n",
    "           "
   ]
  },
  {
   "cell_type": "code",
   "execution_count": 69,
   "metadata": {},
   "outputs": [
    {
     "data": {
      "text/plain": [
       "numpy.ndarray"
      ]
     },
     "execution_count": 69,
     "metadata": {},
     "output_type": "execute_result"
    }
   ],
   "source": [
    "type(Y_train)"
   ]
  },
  {
   "cell_type": "code",
   "execution_count": 96,
   "metadata": {},
   "outputs": [
    {
     "data": {
      "text/plain": [
       "array([[ 6.90982211e-310],\n",
       "       [ 6.90982211e-310],\n",
       "       [ 4.64158638e-310],\n",
       "       ...,\n",
       "       [-1.43712449e+307],\n",
       "       [-1.43712449e+307],\n",
       "       [-1.43712449e+307]])"
      ]
     },
     "execution_count": 96,
     "metadata": {},
     "output_type": "execute_result"
    }
   ],
   "source": [
    "Y_train"
   ]
  },
  {
   "cell_type": "code",
   "execution_count": 97,
   "metadata": {},
   "outputs": [
    {
     "data": {
      "text/plain": [
       "(9709, 1)"
      ]
     },
     "execution_count": 97,
     "metadata": {},
     "output_type": "execute_result"
    }
   ],
   "source": [
    "label = train_df['label']\n",
    "Y_train = [i for i in label]\n",
    "Y_train = np.array(Y_train)\n",
    "Y_train = Y_train.reshape(len(Y_train),1)\n",
    "Y_train.shape"
   ]
  },
  {
   "cell_type": "code",
   "execution_count": 99,
   "metadata": {},
   "outputs": [
    {
     "data": {
      "text/html": [
       "<div>\n",
       "<style scoped>\n",
       "    .dataframe tbody tr th:only-of-type {\n",
       "        vertical-align: middle;\n",
       "    }\n",
       "\n",
       "    .dataframe tbody tr th {\n",
       "        vertical-align: top;\n",
       "    }\n",
       "\n",
       "    .dataframe thead th {\n",
       "        text-align: right;\n",
       "    }\n",
       "</style>\n",
       "<table border=\"1\" class=\"dataframe\">\n",
       "  <thead>\n",
       "    <tr style=\"text-align: right;\">\n",
       "      <th></th>\n",
       "      <th>image_id</th>\n",
       "      <th>label</th>\n",
       "    </tr>\n",
       "  </thead>\n",
       "  <tbody>\n",
       "    <tr>\n",
       "      <th>0</th>\n",
       "      <td>S10_J10_R3_IMAG1248.JPG</td>\n",
       "      <td>8</td>\n",
       "    </tr>\n",
       "    <tr>\n",
       "      <th>1</th>\n",
       "      <td>S10_L13_R3_IMAG0458.JPG</td>\n",
       "      <td>4</td>\n",
       "    </tr>\n",
       "  </tbody>\n",
       "</table>\n",
       "</div>"
      ],
      "text/plain": [
       "                  image_id label\n",
       "0  S10_J10_R3_IMAG1248.JPG     8\n",
       "1  S10_L13_R3_IMAG0458.JPG     4"
      ]
     },
     "execution_count": 99,
     "metadata": {},
     "output_type": "execute_result"
    }
   ],
   "source": [
    "train_df[:2]"
   ]
  },
  {
   "cell_type": "code",
   "execution_count": 98,
   "metadata": {},
   "outputs": [
    {
     "data": {
      "text/plain": [
       "array([['8'],\n",
       "       ['4']], dtype='<U2')"
      ]
     },
     "execution_count": 98,
     "metadata": {},
     "output_type": "execute_result"
    }
   ],
   "source": [
    "Y_train[:2]"
   ]
  },
  {
   "cell_type": "markdown",
   "metadata": {},
   "source": [
    "X_validate, Y_validate Preparation:"
   ]
  },
  {
   "cell_type": "code",
   "execution_count": 70,
   "metadata": {},
   "outputs": [
    {
     "data": {
      "text/plain": [
       "(2913, 2)"
      ]
     },
     "execution_count": 70,
     "metadata": {},
     "output_type": "execute_result"
    }
   ],
   "source": [
    "validate_df.shape"
   ]
  },
  {
   "cell_type": "code",
   "execution_count": 71,
   "metadata": {},
   "outputs": [
    {
     "data": {
      "text/html": [
       "<div>\n",
       "<style scoped>\n",
       "    .dataframe tbody tr th:only-of-type {\n",
       "        vertical-align: middle;\n",
       "    }\n",
       "\n",
       "    .dataframe tbody tr th {\n",
       "        vertical-align: top;\n",
       "    }\n",
       "\n",
       "    .dataframe thead th {\n",
       "        text-align: right;\n",
       "    }\n",
       "</style>\n",
       "<table border=\"1\" class=\"dataframe\">\n",
       "  <thead>\n",
       "    <tr style=\"text-align: right;\">\n",
       "      <th></th>\n",
       "      <th>image_id</th>\n",
       "      <th>label</th>\n",
       "    </tr>\n",
       "  </thead>\n",
       "  <tbody>\n",
       "    <tr>\n",
       "      <th>0</th>\n",
       "      <td>S10_C08_R1_IMAG0186.JPG</td>\n",
       "      <td>12</td>\n",
       "    </tr>\n",
       "    <tr>\n",
       "      <th>1</th>\n",
       "      <td>S10_D03_R2_IMAG0267.JPG</td>\n",
       "      <td>5</td>\n",
       "    </tr>\n",
       "    <tr>\n",
       "      <th>2</th>\n",
       "      <td>S10_E02_R1_IMAG1667.JPG</td>\n",
       "      <td>13</td>\n",
       "    </tr>\n",
       "    <tr>\n",
       "      <th>3</th>\n",
       "      <td>S10_D03_R1_IMAG0276.JPG</td>\n",
       "      <td>6</td>\n",
       "    </tr>\n",
       "    <tr>\n",
       "      <th>4</th>\n",
       "      <td>S10_I11_R1_IMAG0072.JPG</td>\n",
       "      <td>4</td>\n",
       "    </tr>\n",
       "  </tbody>\n",
       "</table>\n",
       "</div>"
      ],
      "text/plain": [
       "                  image_id label\n",
       "0  S10_C08_R1_IMAG0186.JPG    12\n",
       "1  S10_D03_R2_IMAG0267.JPG     5\n",
       "2  S10_E02_R1_IMAG1667.JPG    13\n",
       "3  S10_D03_R1_IMAG0276.JPG     6\n",
       "4  S10_I11_R1_IMAG0072.JPG     4"
      ]
     },
     "execution_count": 71,
     "metadata": {},
     "output_type": "execute_result"
    }
   ],
   "source": [
    "validate_df.head()"
   ]
  },
  {
   "cell_type": "code",
   "execution_count": 72,
   "metadata": {},
   "outputs": [
    {
     "data": {
      "text/plain": [
       "(2913, 227, 227, 3)"
      ]
     },
     "execution_count": 72,
     "metadata": {},
     "output_type": "execute_result"
    }
   ],
   "source": [
    "imglist = validate_df['image_id'].tolist()\n",
    "X_validate = np.empty((len(imglist),227,227,3))\n",
    "X_validate.shape"
   ]
  },
  {
   "cell_type": "code",
   "execution_count": 74,
   "metadata": {},
   "outputs": [],
   "source": [
    "count=0\n",
    "nonelist=[]\n",
    "for img_name in imglist:\n",
    "    img_path = path + img_name\n",
    "    try:\n",
    "        img = image.load_img(img_path, target_size=(227,227))\n",
    "        X_validate[count]=img\n",
    "        count+=1\n",
    "    except:\n",
    "        nonelist.append(img_path)"
   ]
  },
  {
   "cell_type": "code",
   "execution_count": 81,
   "metadata": {},
   "outputs": [
    {
     "data": {
      "text/plain": [
       "array([[[[ 41.,  99., 149.],\n",
       "         [ 54.,  99., 156.],\n",
       "         [ 50.,  97., 153.],\n",
       "         ...,\n",
       "         [122., 163., 191.],\n",
       "         [123., 167., 196.],\n",
       "         [121., 165., 192.]],\n",
       "\n",
       "        [[ 48.,  98., 149.],\n",
       "         [ 43., 101., 149.],\n",
       "         [ 46.,  99., 143.],\n",
       "         ...,\n",
       "         [121., 166., 195.],\n",
       "         [124., 168., 197.],\n",
       "         [124., 169., 198.]],\n",
       "\n",
       "        [[ 41.,  99., 147.],\n",
       "         [ 53., 100., 144.],\n",
       "         [ 46., 100., 144.],\n",
       "         ...,\n",
       "         [123., 164., 192.],\n",
       "         [123., 170., 196.],\n",
       "         [126., 170., 197.]],\n",
       "\n",
       "        ...,\n",
       "\n",
       "        [[220., 220., 220.],\n",
       "         [220., 220., 220.],\n",
       "         [220., 220., 220.],\n",
       "         ...,\n",
       "         [220., 220., 220.],\n",
       "         [220., 220., 220.],\n",
       "         [220., 220., 220.]],\n",
       "\n",
       "        [[220., 220., 220.],\n",
       "         [220., 220., 220.],\n",
       "         [220., 220., 220.],\n",
       "         ...,\n",
       "         [220., 220., 220.],\n",
       "         [220., 220., 220.],\n",
       "         [220., 220., 220.]],\n",
       "\n",
       "        [[221., 221., 221.],\n",
       "         [221., 221., 221.],\n",
       "         [221., 221., 221.],\n",
       "         ...,\n",
       "         [220., 220., 220.],\n",
       "         [220., 220., 220.],\n",
       "         [220., 220., 220.]]],\n",
       "\n",
       "\n",
       "       [[[ 59., 116., 171.],\n",
       "         [ 56., 117., 171.],\n",
       "         [ 70., 123., 173.],\n",
       "         ...,\n",
       "         [ 59., 127., 192.],\n",
       "         [ 56., 125., 192.],\n",
       "         [ 61., 121., 193.]],\n",
       "\n",
       "        [[ 77., 130., 174.],\n",
       "         [ 65., 119., 165.],\n",
       "         [ 71., 127., 178.],\n",
       "         ...,\n",
       "         [ 57., 127., 189.],\n",
       "         [ 56., 128., 187.],\n",
       "         [ 57., 125., 188.]],\n",
       "\n",
       "        [[145., 182., 209.],\n",
       "         [ 92., 146., 190.],\n",
       "         [ 87., 143., 180.],\n",
       "         ...,\n",
       "         [ 60., 128., 189.],\n",
       "         [ 59., 125., 185.],\n",
       "         [ 58., 127., 192.]],\n",
       "\n",
       "        ...,\n",
       "\n",
       "        [[220., 220., 220.],\n",
       "         [220., 220., 220.],\n",
       "         [220., 220., 220.],\n",
       "         ...,\n",
       "         [  7.,   7.,   7.],\n",
       "         [228., 228., 228.],\n",
       "         [220., 220., 220.]],\n",
       "\n",
       "        [[220., 220., 220.],\n",
       "         [220., 220., 220.],\n",
       "         [220., 220., 220.],\n",
       "         ...,\n",
       "         [218., 218., 218.],\n",
       "         [216., 216., 216.],\n",
       "         [220., 220., 220.]],\n",
       "\n",
       "        [[222., 221., 226.],\n",
       "         [220., 219., 224.],\n",
       "         [220., 220., 220.],\n",
       "         ...,\n",
       "         [220., 220., 222.],\n",
       "         [221., 221., 221.],\n",
       "         [220., 220., 220.]]]])"
      ]
     },
     "execution_count": 81,
     "metadata": {},
     "output_type": "execute_result"
    }
   ],
   "source": [
    "X_validate[:2]"
   ]
  },
  {
   "cell_type": "code",
   "execution_count": 75,
   "metadata": {},
   "outputs": [
    {
     "data": {
      "text/plain": [
       "(2913, 1)"
      ]
     },
     "execution_count": 75,
     "metadata": {},
     "output_type": "execute_result"
    }
   ],
   "source": [
    "label = validate_df['label']\n",
    "Y_validate = [i for i in label]\n",
    "Y_validate = np.array(Y_validate)\n",
    "Y_validate = Y_validate.reshape(len(Y_validate),1)\n",
    "Y_validate.shape"
   ]
  },
  {
   "cell_type": "code",
   "execution_count": 94,
   "metadata": {},
   "outputs": [
    {
     "data": {
      "text/plain": [
       "array([['12'],\n",
       "       ['5']], dtype='<U2')"
      ]
     },
     "execution_count": 94,
     "metadata": {},
     "output_type": "execute_result"
    }
   ],
   "source": [
    "Y_validate[:2]"
   ]
  },
  {
   "cell_type": "code",
   "execution_count": 95,
   "metadata": {},
   "outputs": [
    {
     "data": {
      "text/html": [
       "<div>\n",
       "<style scoped>\n",
       "    .dataframe tbody tr th:only-of-type {\n",
       "        vertical-align: middle;\n",
       "    }\n",
       "\n",
       "    .dataframe tbody tr th {\n",
       "        vertical-align: top;\n",
       "    }\n",
       "\n",
       "    .dataframe thead th {\n",
       "        text-align: right;\n",
       "    }\n",
       "</style>\n",
       "<table border=\"1\" class=\"dataframe\">\n",
       "  <thead>\n",
       "    <tr style=\"text-align: right;\">\n",
       "      <th></th>\n",
       "      <th>image_id</th>\n",
       "      <th>label</th>\n",
       "    </tr>\n",
       "  </thead>\n",
       "  <tbody>\n",
       "    <tr>\n",
       "      <th>0</th>\n",
       "      <td>S10_C08_R1_IMAG0186.JPG</td>\n",
       "      <td>12</td>\n",
       "    </tr>\n",
       "    <tr>\n",
       "      <th>1</th>\n",
       "      <td>S10_D03_R2_IMAG0267.JPG</td>\n",
       "      <td>5</td>\n",
       "    </tr>\n",
       "  </tbody>\n",
       "</table>\n",
       "</div>"
      ],
      "text/plain": [
       "                  image_id label\n",
       "0  S10_C08_R1_IMAG0186.JPG    12\n",
       "1  S10_D03_R2_IMAG0267.JPG     5"
      ]
     },
     "execution_count": 95,
     "metadata": {},
     "output_type": "execute_result"
    }
   ],
   "source": [
    "validate_df[:2]"
   ]
  },
  {
   "cell_type": "markdown",
   "metadata": {},
   "source": [
    "test dataset preparation "
   ]
  },
  {
   "cell_type": "code",
   "execution_count": 82,
   "metadata": {},
   "outputs": [
    {
     "data": {
      "text/plain": [
       "(1249, 227, 227, 3)"
      ]
     },
     "execution_count": 82,
     "metadata": {},
     "output_type": "execute_result"
    }
   ],
   "source": [
    "imglist = test_df['image_id'].tolist()\n",
    "X_test = np.empty((len(imglist),227,227,3))\n",
    "X_test.shape"
   ]
  },
  {
   "cell_type": "code",
   "execution_count": 83,
   "metadata": {},
   "outputs": [],
   "source": [
    "count=0\n",
    "nonelist=[]\n",
    "for img_name in imglist:\n",
    "    img_path = path + img_name\n",
    "    try:\n",
    "        img = image.load_img(img_path, target_size=(227,227))\n",
    "        X_test[count]=img\n",
    "        count+=1\n",
    "    except:\n",
    "        nonelist.append(img_path)"
   ]
  },
  {
   "cell_type": "code",
   "execution_count": 87,
   "metadata": {},
   "outputs": [
    {
     "data": {
      "text/plain": [
       "(1249, 227, 227, 3)"
      ]
     },
     "execution_count": 87,
     "metadata": {},
     "output_type": "execute_result"
    }
   ],
   "source": [
    "X_test.shape"
   ]
  },
  {
   "cell_type": "code",
   "execution_count": 88,
   "metadata": {},
   "outputs": [
    {
     "data": {
      "text/plain": [
       "array([[[[147., 191., 252.],\n",
       "         [149., 191., 251.],\n",
       "         [146., 190., 253.],\n",
       "         ...,\n",
       "         [ 32.,  79., 149.],\n",
       "         [ 31.,  84., 152.],\n",
       "         [ 36.,  83., 155.]],\n",
       "\n",
       "        [[149., 193., 255.],\n",
       "         [148., 192., 253.],\n",
       "         [148., 194., 253.],\n",
       "         ...,\n",
       "         [ 34.,  79., 147.],\n",
       "         [ 29.,  82., 148.],\n",
       "         [ 30.,  78., 152.]],\n",
       "\n",
       "        [[150., 194., 255.],\n",
       "         [146., 195., 255.],\n",
       "         [146., 196., 255.],\n",
       "         ...,\n",
       "         [ 35.,  74., 153.],\n",
       "         [ 35.,  78., 157.],\n",
       "         [ 24.,  83., 153.]],\n",
       "\n",
       "        ...,\n",
       "\n",
       "        [[220., 220., 220.],\n",
       "         [220., 220., 220.],\n",
       "         [220., 220., 220.],\n",
       "         ...,\n",
       "         [228., 228., 228.],\n",
       "         [220., 220., 220.],\n",
       "         [220., 220., 220.]],\n",
       "\n",
       "        [[220., 220., 220.],\n",
       "         [220., 220., 220.],\n",
       "         [220., 220., 220.],\n",
       "         ...,\n",
       "         [220., 220., 220.],\n",
       "         [220., 220., 220.],\n",
       "         [220., 220., 220.]],\n",
       "\n",
       "        [[220., 220., 220.],\n",
       "         [220., 220., 220.],\n",
       "         [220., 220., 220.],\n",
       "         ...,\n",
       "         [220., 218., 219.],\n",
       "         [220., 218., 219.],\n",
       "         [220., 218., 219.]]],\n",
       "\n",
       "\n",
       "       [[[148., 174., 223.],\n",
       "         [147., 174., 217.],\n",
       "         [146., 170., 218.],\n",
       "         ...,\n",
       "         [159., 184., 225.],\n",
       "         [161., 182., 225.],\n",
       "         [160., 181., 224.]],\n",
       "\n",
       "        [[149., 175., 224.],\n",
       "         [152., 172., 222.],\n",
       "         [152., 172., 222.],\n",
       "         ...,\n",
       "         [160., 189., 229.],\n",
       "         [157., 185., 225.],\n",
       "         [158., 186., 225.]],\n",
       "\n",
       "        [[145., 172., 217.],\n",
       "         [145., 172., 219.],\n",
       "         [149., 165., 216.],\n",
       "         ...,\n",
       "         [161., 184., 226.],\n",
       "         [155., 184., 224.],\n",
       "         [158., 183., 224.]],\n",
       "\n",
       "        ...,\n",
       "\n",
       "        [[220., 220., 220.],\n",
       "         [220., 220., 220.],\n",
       "         [221., 221., 221.],\n",
       "         ...,\n",
       "         [219., 219., 219.],\n",
       "         [222., 222., 222.],\n",
       "         [223., 221., 222.]],\n",
       "\n",
       "        [[220., 220., 220.],\n",
       "         [220., 220., 220.],\n",
       "         [220., 220., 220.],\n",
       "         ...,\n",
       "         [216., 216., 216.],\n",
       "         [220., 220., 220.],\n",
       "         [222., 220., 234.]],\n",
       "\n",
       "        [[220., 220., 220.],\n",
       "         [220., 220., 222.],\n",
       "         [219., 219., 221.],\n",
       "         ...,\n",
       "         [225., 214., 218.],\n",
       "         [226., 222., 223.],\n",
       "         [225., 221., 212.]]]])"
      ]
     },
     "execution_count": 88,
     "metadata": {},
     "output_type": "execute_result"
    }
   ],
   "source": [
    "X_test[:2]"
   ]
  },
  {
   "cell_type": "code",
   "execution_count": 84,
   "metadata": {},
   "outputs": [
    {
     "data": {
      "text/plain": [
       "(1249, 1)"
      ]
     },
     "execution_count": 84,
     "metadata": {},
     "output_type": "execute_result"
    }
   ],
   "source": [
    "label = test_df['label']\n",
    "Y_test = [i for i in label]\n",
    "Y_test = np.array(Y_test)\n",
    "Y_test = Y_test.reshape(len(Y_test),1)\n",
    "Y_test.shape"
   ]
  },
  {
   "cell_type": "code",
   "execution_count": 85,
   "metadata": {},
   "outputs": [
    {
     "data": {
      "text/html": [
       "<div>\n",
       "<style scoped>\n",
       "    .dataframe tbody tr th:only-of-type {\n",
       "        vertical-align: middle;\n",
       "    }\n",
       "\n",
       "    .dataframe tbody tr th {\n",
       "        vertical-align: top;\n",
       "    }\n",
       "\n",
       "    .dataframe thead th {\n",
       "        text-align: right;\n",
       "    }\n",
       "</style>\n",
       "<table border=\"1\" class=\"dataframe\">\n",
       "  <thead>\n",
       "    <tr style=\"text-align: right;\">\n",
       "      <th></th>\n",
       "      <th>image_id</th>\n",
       "      <th>label</th>\n",
       "    </tr>\n",
       "  </thead>\n",
       "  <tbody>\n",
       "    <tr>\n",
       "      <th>0</th>\n",
       "      <td>S10_N08_R2_IMAG0811.JPG</td>\n",
       "      <td>2</td>\n",
       "    </tr>\n",
       "    <tr>\n",
       "      <th>1</th>\n",
       "      <td>S10_H02_R2_IMAG0465.JPG</td>\n",
       "      <td>3</td>\n",
       "    </tr>\n",
       "  </tbody>\n",
       "</table>\n",
       "</div>"
      ],
      "text/plain": [
       "                  image_id label\n",
       "0  S10_N08_R2_IMAG0811.JPG     2\n",
       "1  S10_H02_R2_IMAG0465.JPG     3"
      ]
     },
     "execution_count": 85,
     "metadata": {},
     "output_type": "execute_result"
    }
   ],
   "source": [
    "test_df[:2]"
   ]
  },
  {
   "cell_type": "code",
   "execution_count": 86,
   "metadata": {},
   "outputs": [
    {
     "data": {
      "text/plain": [
       "array([['2'],\n",
       "       ['3']], dtype='<U2')"
      ]
     },
     "execution_count": 86,
     "metadata": {},
     "output_type": "execute_result"
    }
   ],
   "source": [
    "Y_test[:2]"
   ]
  },
  {
   "cell_type": "markdown",
   "metadata": {},
   "source": [
    "=====================modeling==================="
   ]
  },
  {
   "cell_type": "code",
   "execution_count": 100,
   "metadata": {},
   "outputs": [],
   "source": [
    "import tensorflow as tf\n",
    "from keras.models import Sequential\n",
    "from keras.layers import Dense, Dropout, Activation, Flatten\n",
    "from keras.layers import Conv2D, MaxPooling2D\n",
    "import keras\n",
    "from keras.datasets import cifar10\n",
    "import matplotlib\n",
    "matplotlib.use('Agg')\n",
    "import matplotlib.pyplot as plt\n",
    "from keras.preprocessing.image import ImageDataGenerator\n",
    "from keras.applications import VGG16\n",
    "import numpy as np\n",
    "\n",
    "\n",
    "classes_num = 14\n",
    "batch_size = 64\n",
    "epochs_num = 50"
   ]
  },
  {
   "cell_type": "code",
   "execution_count": 101,
   "metadata": {},
   "outputs": [
    {
     "name": "stdout",
     "output_type": "stream",
     "text": [
      "[INFO] loading dataset......\n",
      "[INFO] initializing model......\n",
      "[INFO] compiling model\n",
      "[INFO] training model\n",
      "Train on 9709 samples, validate on 2913 samples\n",
      "Epoch 1/50\n",
      "9709/9709 [==============================] - 2071s 213ms/step - loss: 4.3180 - accuracy: 0.1415 - val_loss: 2.4777 - val_accuracy: 0.1699\n",
      "Epoch 2/50\n",
      "9709/9709 [==============================] - 2133s 220ms/step - loss: 2.5837 - accuracy: 0.2026 - val_loss: 2.3411 - val_accuracy: 0.2166\n",
      "Epoch 3/50\n",
      "9709/9709 [==============================] - 2120s 218ms/step - loss: 2.3757 - accuracy: 0.2554 - val_loss: 2.1836 - val_accuracy: 0.2915\n",
      "Epoch 4/50\n",
      "9709/9709 [==============================] - 2117s 218ms/step - loss: 2.1391 - accuracy: 0.3340 - val_loss: 1.9616 - val_accuracy: 0.3814\n",
      "Epoch 5/50\n",
      "9709/9709 [==============================] - 2076s 214ms/step - loss: 1.9583 - accuracy: 0.3997 - val_loss: 1.8309 - val_accuracy: 0.4339\n",
      "Epoch 6/50\n",
      "9709/9709 [==============================] - 2120s 218ms/step - loss: 1.7692 - accuracy: 0.4514 - val_loss: 1.7069 - val_accuracy: 0.4799\n",
      "Epoch 7/50\n",
      "9709/9709 [==============================] - 2101s 216ms/step - loss: 1.5980 - accuracy: 0.4992 - val_loss: 1.5916 - val_accuracy: 0.5184\n",
      "Epoch 8/50\n",
      "9709/9709 [==============================] - 2123s 219ms/step - loss: 1.4706 - accuracy: 0.5402 - val_loss: 1.5136 - val_accuracy: 0.5424\n",
      "Epoch 9/50\n",
      "9709/9709 [==============================] - 2075s 214ms/step - loss: 1.3566 - accuracy: 0.5760 - val_loss: 1.4386 - val_accuracy: 0.5561\n",
      "Epoch 10/50\n",
      "9709/9709 [==============================] - 2097s 216ms/step - loss: 1.2514 - accuracy: 0.6028 - val_loss: 1.3760 - val_accuracy: 0.5808\n",
      "Epoch 11/50\n",
      "9709/9709 [==============================] - 2120s 218ms/step - loss: 1.1415 - accuracy: 0.6330 - val_loss: 1.3368 - val_accuracy: 0.5877\n",
      "Epoch 12/50\n",
      "9709/9709 [==============================] - 2086s 215ms/step - loss: 1.0534 - accuracy: 0.6630 - val_loss: 1.2988 - val_accuracy: 0.6062\n",
      "Epoch 13/50\n",
      "9709/9709 [==============================] - 2069s 213ms/step - loss: 0.9805 - accuracy: 0.6844 - val_loss: 1.2460 - val_accuracy: 0.6220\n",
      "Epoch 14/50\n",
      "9709/9709 [==============================] - 2065s 213ms/step - loss: 0.8980 - accuracy: 0.7068 - val_loss: 1.2304 - val_accuracy: 0.6327\n",
      "Epoch 15/50\n",
      "9709/9709 [==============================] - 2071s 213ms/step - loss: 0.8286 - accuracy: 0.7299 - val_loss: 1.2111 - val_accuracy: 0.6426\n",
      "Epoch 16/50\n",
      "9709/9709 [==============================] - 2118s 218ms/step - loss: 0.7721 - accuracy: 0.7517 - val_loss: 1.1957 - val_accuracy: 0.6450\n",
      "Epoch 17/50\n",
      "9709/9709 [==============================] - 2082s 214ms/step - loss: 0.7347 - accuracy: 0.7604 - val_loss: 1.1701 - val_accuracy: 0.6581\n",
      "Epoch 18/50\n",
      "9709/9709 [==============================] - 2083s 215ms/step - loss: 0.6814 - accuracy: 0.7808 - val_loss: 1.1580 - val_accuracy: 0.6547\n",
      "Epoch 19/50\n",
      "9709/9709 [==============================] - 2079s 214ms/step - loss: 0.6488 - accuracy: 0.7866 - val_loss: 1.1273 - val_accuracy: 0.6622\n",
      "Epoch 20/50\n",
      "9709/9709 [==============================] - 2108s 217ms/step - loss: 0.6030 - accuracy: 0.8080 - val_loss: 1.1242 - val_accuracy: 0.6718\n",
      "Epoch 21/50\n",
      "9709/9709 [==============================] - 2095s 216ms/step - loss: 0.5794 - accuracy: 0.8124 - val_loss: 1.1219 - val_accuracy: 0.6763\n",
      "Epoch 22/50\n",
      "9709/9709 [==============================] - 2074s 214ms/step - loss: 0.5315 - accuracy: 0.8297 - val_loss: 1.1228 - val_accuracy: 0.6780\n",
      "Epoch 23/50\n",
      "9709/9709 [==============================] - 2079s 214ms/step - loss: 0.5215 - accuracy: 0.8349 - val_loss: 1.0942 - val_accuracy: 0.6804\n",
      "Epoch 24/50\n",
      "9709/9709 [==============================] - 2079s 214ms/step - loss: 0.4895 - accuracy: 0.8426 - val_loss: 1.0983 - val_accuracy: 0.6955\n",
      "Epoch 25/50\n",
      "9709/9709 [==============================] - 2120s 218ms/step - loss: 0.4679 - accuracy: 0.8496 - val_loss: 1.0881 - val_accuracy: 0.7020\n",
      "Epoch 26/50\n",
      "9709/9709 [==============================] - 2125s 219ms/step - loss: 0.4272 - accuracy: 0.8651 - val_loss: 1.0810 - val_accuracy: 0.6945\n",
      "Epoch 27/50\n",
      "9709/9709 [==============================] - 2101s 216ms/step - loss: 0.4098 - accuracy: 0.8701 - val_loss: 1.0820 - val_accuracy: 0.7007\n",
      "Epoch 28/50\n",
      "9709/9709 [==============================] - 2113s 218ms/step - loss: 0.3918 - accuracy: 0.8767 - val_loss: 1.0844 - val_accuracy: 0.7027\n",
      "Epoch 29/50\n",
      "9709/9709 [==============================] - 2109s 217ms/step - loss: 0.3765 - accuracy: 0.8779 - val_loss: 1.0745 - val_accuracy: 0.6979\n",
      "Epoch 30/50\n",
      "9709/9709 [==============================] - 2082s 214ms/step - loss: 0.3540 - accuracy: 0.8854 - val_loss: 1.0823 - val_accuracy: 0.6996\n",
      "Epoch 31/50\n",
      "9709/9709 [==============================] - 2123s 219ms/step - loss: 0.3366 - accuracy: 0.8935 - val_loss: 1.0660 - val_accuracy: 0.7068\n",
      "Epoch 32/50\n",
      "9709/9709 [==============================] - 2109s 217ms/step - loss: 0.3350 - accuracy: 0.8977 - val_loss: 1.0733 - val_accuracy: 0.7134\n",
      "Epoch 33/50\n",
      "9709/9709 [==============================] - 2099s 216ms/step - loss: 0.3094 - accuracy: 0.9013 - val_loss: 1.0664 - val_accuracy: 0.7158\n",
      "Epoch 34/50\n",
      "9709/9709 [==============================] - 2078s 214ms/step - loss: 0.3013 - accuracy: 0.9044 - val_loss: 1.0633 - val_accuracy: 0.7185\n",
      "Epoch 35/50\n",
      "9709/9709 [==============================] - 2090s 215ms/step - loss: 0.2785 - accuracy: 0.9088 - val_loss: 1.0676 - val_accuracy: 0.7140\n",
      "Epoch 36/50\n",
      "9709/9709 [==============================] - 2101s 216ms/step - loss: 0.2654 - accuracy: 0.9201 - val_loss: 1.0736 - val_accuracy: 0.7209\n",
      "Epoch 37/50\n",
      "9709/9709 [==============================] - 2101s 216ms/step - loss: 0.2691 - accuracy: 0.9179 - val_loss: 1.0497 - val_accuracy: 0.7219\n",
      "Epoch 38/50\n",
      "9709/9709 [==============================] - 2083s 215ms/step - loss: 0.2493 - accuracy: 0.9224 - val_loss: 1.0600 - val_accuracy: 0.7237\n",
      "Epoch 39/50\n",
      "9709/9709 [==============================] - 2092s 215ms/step - loss: 0.2433 - accuracy: 0.9252 - val_loss: 1.0630 - val_accuracy: 0.7298\n",
      "Epoch 40/50\n",
      "9709/9709 [==============================] - 2092s 215ms/step - loss: 0.2237 - accuracy: 0.9316 - val_loss: 1.0563 - val_accuracy: 0.7309\n",
      "Epoch 41/50\n",
      "9709/9709 [==============================] - 2089s 215ms/step - loss: 0.2235 - accuracy: 0.9306 - val_loss: 1.0739 - val_accuracy: 0.7271\n",
      "Epoch 42/50\n",
      "9709/9709 [==============================] - 2072s 213ms/step - loss: 0.2143 - accuracy: 0.9331 - val_loss: 1.0966 - val_accuracy: 0.7230\n",
      "Epoch 43/50\n",
      "9709/9709 [==============================] - 2098s 216ms/step - loss: 0.2056 - accuracy: 0.9401 - val_loss: 1.0717 - val_accuracy: 0.7312\n",
      "Epoch 44/50\n",
      "9709/9709 [==============================] - 2102s 216ms/step - loss: 0.2011 - accuracy: 0.9385 - val_loss: 1.0611 - val_accuracy: 0.7319\n",
      "Epoch 45/50\n",
      "9709/9709 [==============================] - 2096s 216ms/step - loss: 0.1868 - accuracy: 0.9444 - val_loss: 1.0722 - val_accuracy: 0.7281\n",
      "Epoch 46/50\n",
      "9709/9709 [==============================] - 2113s 218ms/step - loss: 0.1818 - accuracy: 0.9435 - val_loss: 1.0710 - val_accuracy: 0.7333\n",
      "Epoch 47/50\n",
      "9709/9709 [==============================] - 2108s 217ms/step - loss: 0.1813 - accuracy: 0.9423 - val_loss: 1.0671 - val_accuracy: 0.7346\n",
      "Epoch 48/50\n",
      "9709/9709 [==============================] - 2103s 217ms/step - loss: 0.1709 - accuracy: 0.9490 - val_loss: 1.0857 - val_accuracy: 0.7295\n",
      "Epoch 49/50\n",
      "9709/9709 [==============================] - 2098s 216ms/step - loss: 0.1672 - accuracy: 0.9481 - val_loss: 1.0765 - val_accuracy: 0.7322\n",
      "Epoch 50/50\n",
      "9709/9709 [==============================] - 2103s 217ms/step - loss: 0.1584 - accuracy: 0.9535 - val_loss: 1.0918 - val_accuracy: 0.7315\n",
      "[INFO] saving model and weights\n"
     ]
    }
   ],
   "source": [
    "from keras.layers import Flatten,Dense,Dropout,Input\n",
    "from keras.applications import VGG16\n",
    "from keras.optimizers import SGD\n",
    "from keras.models import Model \n",
    "from keras.utils import np_utils\n",
    "\n",
    "print('[INFO] loading dataset......')\n",
    "(x_train,y_train)=(X_train, Y_train)\n",
    "(x_valid,y_valid)=(X_validate, Y_validate)\n",
    "\n",
    "y_train=np_utils.to_categorical(y_train,14)\n",
    "y_valid=np_utils.to_categorical(y_valid,14)\n",
    "print('[INFO] initializing model......')\n",
    "base_model=VGG16(weights='imagenet',include_top=False,input_tensor=Input(shape=(227,227,3)))\n",
    "\n",
    "#??\n",
    "head_model=base_model.output\n",
    "head_model=Flatten(name=\"flatten\")(head_model)\n",
    "head_model = Dense(512, activation=\"relu\")(head_model)\n",
    "head_model = Dropout(0.5)(head_model)\n",
    "head_model=Dense(64,activation='relu')(head_model)\n",
    "head_model = Dense(14, activation=\"softmax\")(head_model)\n",
    "model=Model(base_model.input,head_model)\n",
    "\n",
    "#?????5????????????????\n",
    "for layer in base_model.layers:\n",
    "    layer.trainable=False\n",
    "print('[INFO] compiling model')\n",
    "sgd=SGD(lr=0.0001,momentum=0.9)\n",
    "model.compile(loss='categorical_crossentropy',metrics=['accuracy'],optimizer=sgd)\n",
    "print('[INFO] training model')\n",
    "model.fit(x_train, y_train, batch_size=64, epochs=50, validation_data=(x_valid,y_valid))\n",
    "print('[INFO] saving model and weights')\n",
    "#??????????\n",
    "model_json=model.to_json()\n",
    "open('model_architecture.json','w').write(model_json)\n",
    "#????\n",
    "model.save_weights('transfer_learning_weights.h5', overwrite=True)"
   ]
  },
  {
   "cell_type": "code",
   "execution_count": null,
   "metadata": {},
   "outputs": [],
   "source": []
  },
  {
   "cell_type": "code",
   "execution_count": 92,
   "metadata": {},
   "outputs": [
    {
     "data": {
      "text/plain": [
       "(9709, 1)"
      ]
     },
     "execution_count": 92,
     "metadata": {},
     "output_type": "execute_result"
    }
   ],
   "source": [
    "Y_train.shape"
   ]
  },
  {
   "cell_type": "code",
   "execution_count": 93,
   "metadata": {},
   "outputs": [
    {
     "data": {
      "text/plain": [
       "array([[ 6.90982211e-310],\n",
       "       [ 6.90982211e-310],\n",
       "       [ 4.64158638e-310],\n",
       "       ...,\n",
       "       [-1.43712449e+307],\n",
       "       [-1.43712449e+307],\n",
       "       [-1.43712449e+307]])"
      ]
     },
     "execution_count": 93,
     "metadata": {},
     "output_type": "execute_result"
    }
   ],
   "source": [
    "Y_train"
   ]
  },
  {
   "cell_type": "code",
   "execution_count": null,
   "metadata": {},
   "outputs": [],
   "source": []
  },
  {
   "cell_type": "code",
   "execution_count": null,
   "metadata": {},
   "outputs": [],
   "source": []
  },
  {
   "cell_type": "code",
   "execution_count": null,
   "metadata": {},
   "outputs": [],
   "source": []
  },
  {
   "cell_type": "markdown",
   "metadata": {},
   "source": [
    "check the image"
   ]
  },
  {
   "cell_type": "code",
   "execution_count": 55,
   "metadata": {},
   "outputs": [
    {
     "data": {
      "text/html": [
       "<div>\n",
       "<style scoped>\n",
       "    .dataframe tbody tr th:only-of-type {\n",
       "        vertical-align: middle;\n",
       "    }\n",
       "\n",
       "    .dataframe tbody tr th {\n",
       "        vertical-align: top;\n",
       "    }\n",
       "\n",
       "    .dataframe thead th {\n",
       "        text-align: right;\n",
       "    }\n",
       "</style>\n",
       "<table border=\"1\" class=\"dataframe\">\n",
       "  <thead>\n",
       "    <tr style=\"text-align: right;\">\n",
       "      <th></th>\n",
       "      <th>image_id</th>\n",
       "      <th>label</th>\n",
       "    </tr>\n",
       "  </thead>\n",
       "  <tbody>\n",
       "    <tr>\n",
       "      <th>6202</th>\n",
       "      <td>S10_B03_R1_IMAG0108.JPG</td>\n",
       "      <td>4</td>\n",
       "    </tr>\n",
       "  </tbody>\n",
       "</table>\n",
       "</div>"
      ],
      "text/plain": [
       "                     image_id label\n",
       "6202  S10_B03_R1_IMAG0108.JPG     4"
      ]
     },
     "execution_count": 55,
     "metadata": {},
     "output_type": "execute_result"
    }
   ],
   "source": [
    "train_df[train_df['image_id']=='S10_B03_R1_IMAG0108.JPG']"
   ]
  },
  {
   "cell_type": "code",
   "execution_count": null,
   "metadata": {},
   "outputs": [],
   "source": []
  },
  {
   "cell_type": "code",
   "execution_count": null,
   "metadata": {},
   "outputs": [],
   "source": []
  },
  {
   "cell_type": "code",
   "execution_count": null,
   "metadata": {},
   "outputs": [],
   "source": []
  },
  {
   "cell_type": "code",
   "execution_count": null,
   "metadata": {},
   "outputs": [],
   "source": []
  }
 ],
 "metadata": {
  "kernelspec": {
   "display_name": "Python 3",
   "language": "python",
   "name": "python3"
  },
  "language_info": {
   "codemirror_mode": {
    "name": "ipython",
    "version": 3
   },
   "file_extension": ".py",
   "mimetype": "text/x-python",
   "name": "python",
   "nbconvert_exporter": "python",
   "pygments_lexer": "ipython3",
   "version": "3.7.3"
  }
 },
 "nbformat": 4,
 "nbformat_minor": 4
}
